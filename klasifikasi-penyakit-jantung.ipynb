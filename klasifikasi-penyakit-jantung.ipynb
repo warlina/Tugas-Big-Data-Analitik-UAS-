{
 "cells": [
  {
   "cell_type": "markdown",
   "id": "400b1e05",
   "metadata": {
    "papermill": {
     "duration": 0.022381,
     "end_time": "2022-09-02T10:50:35.382591",
     "exception": false,
     "start_time": "2022-09-02T10:50:35.360210",
     "status": "completed"
    },
    "tags": []
   },
   "source": [
    "# Prediksi Penyakit Jantung Menggunakan Machine Learning\n",
    "\n",
    "## 1. Definisi Masalah\n",
    "\n",
    "Dalam kasus ini, masalah yang saya jelajahi adalah masalah klasifikasi biner.\n",
    "\n",
    "Saya akan mencari informasi dan memprediksi apakah seseorang memiliki penyakit jantung atau tidak.\n",
    "\n",
    "## 2. Data\n",
    "\n",
    "Data asli berasal dari database Cleveland dari UCI Machine Learning Repository.\n",
    "\n",
    "Database asli berisi 76 atribut, tetapi di sini hanya 14 atribut yang akan digunakan, atribut juga disebut fitur.\n",
    "\n",
    "Atribut dan fitur juga disebut sebagai variabel bebas dan variabel terikat, saya menggunakan variabel bebas untuk memprediksi variabel terikat. \n",
    "\n",
    "Dalam data ini, variabel bebas adalah atribut informasi pasien dan variabel terikat adalah apakah mereka memiliki penyakit jantung atau tidak.\n",
    "\n",
    "## 3. Evaluasi \n",
    "\n",
    "Matrik evaluasi adalah sesuatu yang biasanya ditentukan di awal proyek.\n",
    "\n",
    "Karena pembelajaran mesin sangat eksperimental, jadi dalam proyek ini saya harus mendapatkan akurasi minimal 85%.\n",
    "\n",
    "Karena sifatnya eksperimen, matrik evaluasi dapat berubah seiring waktu.\n",
    "\n",
    "\n",
    "## 4. Fitur\n",
    "\n",
    "Kamus data menjelaskan data yang saya hadapi. Seharusnya disini saya harus melakukan penelitian atau bertanya kepada ahli (seseorang yang tahu tentang data ini) untuk lebih lanjut.\n",
    "\n",
    "Berikut ini adalah fitur yang akan saya gunakan untuk memprediksi variabel target (penyakit jantung atau tidak ada penyakit jantung).\n",
    "\n",
    "1. age - Usia dalam tahun \n",
    "2. sex - (1 = male; 0 = female) \n",
    "3. cp - chest pain type \n",
    "    * 0: Typical angina: nyeri dada terkait mengurangi suplai darah ke jantung\n",
    "    * 1: Atypical angina: nyeri dada tidak berhubungan dengan jantung\n",
    "    * 2: Non-anginal pain: biasanya kejang esofagus (tidak berhubungan dengan jantung)\n",
    "    * 3: Asymptomatic: nyeri dada tidak menunjukkan tanda-tanda penyakit\n",
    "4. trestbps - mengistirahatkan tekanan darah (dalam mm Hg saat masuk ke rumah sakit\n",
    "    * di atas 130-140 biasanya memprihatinkan\n",
    "5. chol - serum cholestoral dalam mg/dl\n",
    "    * serum = LDL + HDL + .2 * triglycerides\n",
    "    * di atas 200 yang memprihatinkan\n",
    "6. fbs - (fasting blood sugar > 120 mg/dl) (1 = true; 0 = false) \n",
    "    * '>126' mg/dL signals diabetes\n",
    "7. restecg - resting electrocardiographic results\n",
    "    * 0: Tidak ada yang perlu diperhatikan\n",
    "    * 1: ST-T Wave abnormality\n",
    "        - dapat berkisar dari gejala ringan hingga masalah parah\n",
    "        - sinyal detak jantung yang tidak normal\n",
    "    * 2: Possible or definite left ventricular hypertrophy\n",
    "        - Ruang pompa utama jantung yang diperbesar\n",
    "8. thalach - denyut jantung maksimum tercapai\n",
    "9. exang - latihan diinduksi angina (1 = yes; 0 = no) \n",
    "10. oldpeak - Depresi ST yang disebabkan oleh olahraga relatif terhadap istirahat \n",
    "    * melihat stres jantung saat berolahraga\n",
    "    * jantung yang tidak sehat akan lebih stres\n",
    "11. slope - kemiringan segmen ST latihan puncak\n",
    "    * 0: Upsloping: detak jantung yang lebih baik dengan olahraga (tidak biasa)\n",
    "    * 1: Flatsloping: perubahan minimal (jantung sehat yang khas)\n",
    "    * 2: Downslopins: tanda-tanda jantung yang tidak sehat\n",
    "12. ca - jumlah pembuluh darah utama (0-3) diwarnai oleh flourosopy\n",
    "    * pembuluh berwarna berarti dokter dapat melihat darah yang melewatinya\n",
    "    * semakin banyak gerakan darah semakin baik (tidak ada gumpalan)\n",
    "13. thal - hasil stres thalium\n",
    "    * 1,3: normal\n",
    "    * 6: fixed defect: dulu cacat tapi sekarang baik-baik saja\n",
    "    * 7: reversable defect: tidak ada gerakan darah yang tepat saat berolahraga \n",
    "14. target - memiliki penyakit atau tidak (1=yes, 0=no) (= atribut yang diprediksi)"
   ]
  },
  {
   "cell_type": "markdown",
   "id": "94627aa8",
   "metadata": {
    "papermill": {
     "duration": 0.018062,
     "end_time": "2022-09-02T10:50:35.419537",
     "exception": false,
     "start_time": "2022-09-02T10:50:35.401475",
     "status": "completed"
    },
    "tags": []
   },
   "source": [
    "## Mempersiapkan alat"
   ]
  },
  {
   "cell_type": "code",
   "execution_count": 1,
   "id": "55e5f705",
   "metadata": {
    "execution": {
     "iopub.execute_input": "2022-09-02T10:50:35.458571Z",
     "iopub.status.busy": "2022-09-02T10:50:35.457817Z",
     "iopub.status.idle": "2022-09-02T10:50:37.008039Z",
     "shell.execute_reply": "2022-09-02T10:50:37.006849Z"
    },
    "papermill": {
     "duration": 1.57322,
     "end_time": "2022-09-02T10:50:37.010957",
     "exception": false,
     "start_time": "2022-09-02T10:50:35.437737",
     "status": "completed"
    },
    "tags": []
   },
   "outputs": [],
   "source": [
    "# EDA dan Plot library\n",
    "import numpy as np\n",
    "import pandas as pd\n",
    "import matplotlib.pyplot as plt\n",
    "import seaborn as sns\n",
    "\n",
    "# agar hasil visualisasi bisa langsung tercetak di Jupyter Notebook\n",
    "%matplotlib inline\n",
    "\n",
    "# Models\n",
    "from sklearn.linear_model import LogisticRegression\n",
    "from sklearn.neighbors import KNeighborsClassifier\n",
    "from sklearn.ensemble import RandomForestClassifier\n",
    "\n",
    "# Evaluasi Model\n",
    "from sklearn.model_selection import train_test_split, cross_val_score\n",
    "from sklearn.model_selection import RandomizedSearchCV, GridSearchCV\n",
    "from sklearn.metrics import confusion_matrix, classification_report\n",
    "from sklearn.metrics import precision_score, recall_score, f1_score\n",
    "from sklearn.metrics import plot_roc_curve"
   ]
  },
  {
   "cell_type": "code",
   "execution_count": 2,
   "id": "f3164c61",
   "metadata": {
    "execution": {
     "iopub.execute_input": "2022-09-02T10:50:37.049106Z",
     "iopub.status.busy": "2022-09-02T10:50:37.048648Z",
     "iopub.status.idle": "2022-09-02T10:50:37.062673Z",
     "shell.execute_reply": "2022-09-02T10:50:37.061542Z"
    },
    "papermill": {
     "duration": 0.03644,
     "end_time": "2022-09-02T10:50:37.065441",
     "exception": false,
     "start_time": "2022-09-02T10:50:37.029001",
     "status": "completed"
    },
    "tags": []
   },
   "outputs": [
    {
     "name": "stdout",
     "output_type": "stream",
     "text": [
      "/kaggle/input/heart-disease/heart.csv\n"
     ]
    }
   ],
   "source": [
    "import os\n",
    "for dirname, _, filenames in os.walk('/kaggle/input'):\n",
    "    for filename in filenames:\n",
    "        print(os.path.join(dirname, filename))"
   ]
  },
  {
   "cell_type": "markdown",
   "id": "d7531b9e",
   "metadata": {
    "papermill": {
     "duration": 0.017702,
     "end_time": "2022-09-02T10:50:37.101481",
     "exception": false,
     "start_time": "2022-09-02T10:50:37.083779",
     "status": "completed"
    },
    "tags": []
   },
   "source": [
    "## Load data"
   ]
  },
  {
   "cell_type": "code",
   "execution_count": 3,
   "id": "0eb6db02",
   "metadata": {
    "execution": {
     "iopub.execute_input": "2022-09-02T10:50:37.139964Z",
     "iopub.status.busy": "2022-09-02T10:50:37.139122Z",
     "iopub.status.idle": "2022-09-02T10:50:37.162833Z",
     "shell.execute_reply": "2022-09-02T10:50:37.161510Z"
    },
    "papermill": {
     "duration": 0.04577,
     "end_time": "2022-09-02T10:50:37.165230",
     "exception": false,
     "start_time": "2022-09-02T10:50:37.119460",
     "status": "completed"
    },
    "tags": []
   },
   "outputs": [
    {
     "data": {
      "text/plain": [
       "(303, 14)"
      ]
     },
     "execution_count": 3,
     "metadata": {},
     "output_type": "execute_result"
    }
   ],
   "source": [
    "df = pd.read_csv(\"../input/heart-disease/heart.csv\")\n",
    "df.shape"
   ]
  },
  {
   "cell_type": "markdown",
   "id": "500c58b3",
   "metadata": {
    "papermill": {
     "duration": 0.022794,
     "end_time": "2022-09-02T10:50:37.207200",
     "exception": false,
     "start_time": "2022-09-02T10:50:37.184406",
     "status": "completed"
    },
    "tags": []
   },
   "source": [
    "## Data Exploration (exploratory data analysis or EDA)"
   ]
  },
  {
   "cell_type": "code",
   "execution_count": 4,
   "id": "e6fa2146",
   "metadata": {
    "execution": {
     "iopub.execute_input": "2022-09-02T10:50:37.250489Z",
     "iopub.status.busy": "2022-09-02T10:50:37.249680Z",
     "iopub.status.idle": "2022-09-02T10:50:37.272079Z",
     "shell.execute_reply": "2022-09-02T10:50:37.270813Z"
    },
    "papermill": {
     "duration": 0.049081,
     "end_time": "2022-09-02T10:50:37.276205",
     "exception": false,
     "start_time": "2022-09-02T10:50:37.227124",
     "status": "completed"
    },
    "tags": []
   },
   "outputs": [
    {
     "data": {
      "text/html": [
       "<div>\n",
       "<style scoped>\n",
       "    .dataframe tbody tr th:only-of-type {\n",
       "        vertical-align: middle;\n",
       "    }\n",
       "\n",
       "    .dataframe tbody tr th {\n",
       "        vertical-align: top;\n",
       "    }\n",
       "\n",
       "    .dataframe thead th {\n",
       "        text-align: right;\n",
       "    }\n",
       "</style>\n",
       "<table border=\"1\" class=\"dataframe\">\n",
       "  <thead>\n",
       "    <tr style=\"text-align: right;\">\n",
       "      <th></th>\n",
       "      <th>age</th>\n",
       "      <th>sex</th>\n",
       "      <th>cp</th>\n",
       "      <th>trestbps</th>\n",
       "      <th>chol</th>\n",
       "      <th>fbs</th>\n",
       "      <th>restecg</th>\n",
       "      <th>thalach</th>\n",
       "      <th>exang</th>\n",
       "      <th>oldpeak</th>\n",
       "      <th>slope</th>\n",
       "      <th>ca</th>\n",
       "      <th>thal</th>\n",
       "      <th>target</th>\n",
       "    </tr>\n",
       "  </thead>\n",
       "  <tbody>\n",
       "    <tr>\n",
       "      <th>0</th>\n",
       "      <td>63</td>\n",
       "      <td>1</td>\n",
       "      <td>3</td>\n",
       "      <td>145</td>\n",
       "      <td>233</td>\n",
       "      <td>1</td>\n",
       "      <td>0</td>\n",
       "      <td>150</td>\n",
       "      <td>0</td>\n",
       "      <td>2.3</td>\n",
       "      <td>0</td>\n",
       "      <td>0</td>\n",
       "      <td>1</td>\n",
       "      <td>1</td>\n",
       "    </tr>\n",
       "    <tr>\n",
       "      <th>1</th>\n",
       "      <td>37</td>\n",
       "      <td>1</td>\n",
       "      <td>2</td>\n",
       "      <td>130</td>\n",
       "      <td>250</td>\n",
       "      <td>0</td>\n",
       "      <td>1</td>\n",
       "      <td>187</td>\n",
       "      <td>0</td>\n",
       "      <td>3.5</td>\n",
       "      <td>0</td>\n",
       "      <td>0</td>\n",
       "      <td>2</td>\n",
       "      <td>1</td>\n",
       "    </tr>\n",
       "    <tr>\n",
       "      <th>2</th>\n",
       "      <td>41</td>\n",
       "      <td>0</td>\n",
       "      <td>1</td>\n",
       "      <td>130</td>\n",
       "      <td>204</td>\n",
       "      <td>0</td>\n",
       "      <td>0</td>\n",
       "      <td>172</td>\n",
       "      <td>0</td>\n",
       "      <td>1.4</td>\n",
       "      <td>2</td>\n",
       "      <td>0</td>\n",
       "      <td>2</td>\n",
       "      <td>1</td>\n",
       "    </tr>\n",
       "    <tr>\n",
       "      <th>3</th>\n",
       "      <td>56</td>\n",
       "      <td>1</td>\n",
       "      <td>1</td>\n",
       "      <td>120</td>\n",
       "      <td>236</td>\n",
       "      <td>0</td>\n",
       "      <td>1</td>\n",
       "      <td>178</td>\n",
       "      <td>0</td>\n",
       "      <td>0.8</td>\n",
       "      <td>2</td>\n",
       "      <td>0</td>\n",
       "      <td>2</td>\n",
       "      <td>1</td>\n",
       "    </tr>\n",
       "    <tr>\n",
       "      <th>4</th>\n",
       "      <td>57</td>\n",
       "      <td>0</td>\n",
       "      <td>0</td>\n",
       "      <td>120</td>\n",
       "      <td>354</td>\n",
       "      <td>0</td>\n",
       "      <td>1</td>\n",
       "      <td>163</td>\n",
       "      <td>1</td>\n",
       "      <td>0.6</td>\n",
       "      <td>2</td>\n",
       "      <td>0</td>\n",
       "      <td>2</td>\n",
       "      <td>1</td>\n",
       "    </tr>\n",
       "  </tbody>\n",
       "</table>\n",
       "</div>"
      ],
      "text/plain": [
       "   age  sex  cp  trestbps  chol  fbs  restecg  thalach  exang  oldpeak  slope  \\\n",
       "0   63    1   3       145   233    1        0      150      0      2.3      0   \n",
       "1   37    1   2       130   250    0        1      187      0      3.5      0   \n",
       "2   41    0   1       130   204    0        0      172      0      1.4      2   \n",
       "3   56    1   1       120   236    0        1      178      0      0.8      2   \n",
       "4   57    0   0       120   354    0        1      163      1      0.6      2   \n",
       "\n",
       "   ca  thal  target  \n",
       "0   0     1       1  \n",
       "1   0     2       1  \n",
       "2   0     2       1  \n",
       "3   0     2       1  \n",
       "4   0     2       1  "
      ]
     },
     "execution_count": 4,
     "metadata": {},
     "output_type": "execute_result"
    }
   ],
   "source": [
    "df.head()"
   ]
  },
  {
   "cell_type": "code",
   "execution_count": 5,
   "id": "f2ab7309",
   "metadata": {
    "execution": {
     "iopub.execute_input": "2022-09-02T10:50:37.319748Z",
     "iopub.status.busy": "2022-09-02T10:50:37.318888Z",
     "iopub.status.idle": "2022-09-02T10:50:37.336915Z",
     "shell.execute_reply": "2022-09-02T10:50:37.335466Z"
    },
    "papermill": {
     "duration": 0.042671,
     "end_time": "2022-09-02T10:50:37.339831",
     "exception": false,
     "start_time": "2022-09-02T10:50:37.297160",
     "status": "completed"
    },
    "tags": []
   },
   "outputs": [
    {
     "data": {
      "text/html": [
       "<div>\n",
       "<style scoped>\n",
       "    .dataframe tbody tr th:only-of-type {\n",
       "        vertical-align: middle;\n",
       "    }\n",
       "\n",
       "    .dataframe tbody tr th {\n",
       "        vertical-align: top;\n",
       "    }\n",
       "\n",
       "    .dataframe thead th {\n",
       "        text-align: right;\n",
       "    }\n",
       "</style>\n",
       "<table border=\"1\" class=\"dataframe\">\n",
       "  <thead>\n",
       "    <tr style=\"text-align: right;\">\n",
       "      <th></th>\n",
       "      <th>age</th>\n",
       "      <th>sex</th>\n",
       "      <th>cp</th>\n",
       "      <th>trestbps</th>\n",
       "      <th>chol</th>\n",
       "      <th>fbs</th>\n",
       "      <th>restecg</th>\n",
       "      <th>thalach</th>\n",
       "      <th>exang</th>\n",
       "      <th>oldpeak</th>\n",
       "      <th>slope</th>\n",
       "      <th>ca</th>\n",
       "      <th>thal</th>\n",
       "      <th>target</th>\n",
       "    </tr>\n",
       "  </thead>\n",
       "  <tbody>\n",
       "    <tr>\n",
       "      <th>298</th>\n",
       "      <td>57</td>\n",
       "      <td>0</td>\n",
       "      <td>0</td>\n",
       "      <td>140</td>\n",
       "      <td>241</td>\n",
       "      <td>0</td>\n",
       "      <td>1</td>\n",
       "      <td>123</td>\n",
       "      <td>1</td>\n",
       "      <td>0.2</td>\n",
       "      <td>1</td>\n",
       "      <td>0</td>\n",
       "      <td>3</td>\n",
       "      <td>0</td>\n",
       "    </tr>\n",
       "    <tr>\n",
       "      <th>299</th>\n",
       "      <td>45</td>\n",
       "      <td>1</td>\n",
       "      <td>3</td>\n",
       "      <td>110</td>\n",
       "      <td>264</td>\n",
       "      <td>0</td>\n",
       "      <td>1</td>\n",
       "      <td>132</td>\n",
       "      <td>0</td>\n",
       "      <td>1.2</td>\n",
       "      <td>1</td>\n",
       "      <td>0</td>\n",
       "      <td>3</td>\n",
       "      <td>0</td>\n",
       "    </tr>\n",
       "    <tr>\n",
       "      <th>300</th>\n",
       "      <td>68</td>\n",
       "      <td>1</td>\n",
       "      <td>0</td>\n",
       "      <td>144</td>\n",
       "      <td>193</td>\n",
       "      <td>1</td>\n",
       "      <td>1</td>\n",
       "      <td>141</td>\n",
       "      <td>0</td>\n",
       "      <td>3.4</td>\n",
       "      <td>1</td>\n",
       "      <td>2</td>\n",
       "      <td>3</td>\n",
       "      <td>0</td>\n",
       "    </tr>\n",
       "    <tr>\n",
       "      <th>301</th>\n",
       "      <td>57</td>\n",
       "      <td>1</td>\n",
       "      <td>0</td>\n",
       "      <td>130</td>\n",
       "      <td>131</td>\n",
       "      <td>0</td>\n",
       "      <td>1</td>\n",
       "      <td>115</td>\n",
       "      <td>1</td>\n",
       "      <td>1.2</td>\n",
       "      <td>1</td>\n",
       "      <td>1</td>\n",
       "      <td>3</td>\n",
       "      <td>0</td>\n",
       "    </tr>\n",
       "    <tr>\n",
       "      <th>302</th>\n",
       "      <td>57</td>\n",
       "      <td>0</td>\n",
       "      <td>1</td>\n",
       "      <td>130</td>\n",
       "      <td>236</td>\n",
       "      <td>0</td>\n",
       "      <td>0</td>\n",
       "      <td>174</td>\n",
       "      <td>0</td>\n",
       "      <td>0.0</td>\n",
       "      <td>1</td>\n",
       "      <td>1</td>\n",
       "      <td>2</td>\n",
       "      <td>0</td>\n",
       "    </tr>\n",
       "  </tbody>\n",
       "</table>\n",
       "</div>"
      ],
      "text/plain": [
       "     age  sex  cp  trestbps  chol  fbs  restecg  thalach  exang  oldpeak  \\\n",
       "298   57    0   0       140   241    0        1      123      1      0.2   \n",
       "299   45    1   3       110   264    0        1      132      0      1.2   \n",
       "300   68    1   0       144   193    1        1      141      0      3.4   \n",
       "301   57    1   0       130   131    0        1      115      1      1.2   \n",
       "302   57    0   1       130   236    0        0      174      0      0.0   \n",
       "\n",
       "     slope  ca  thal  target  \n",
       "298      1   0     3       0  \n",
       "299      1   0     3       0  \n",
       "300      1   2     3       0  \n",
       "301      1   1     3       0  \n",
       "302      1   1     2       0  "
      ]
     },
     "execution_count": 5,
     "metadata": {},
     "output_type": "execute_result"
    }
   ],
   "source": [
    "df.tail()"
   ]
  },
  {
   "cell_type": "markdown",
   "id": "d625566d",
   "metadata": {
    "papermill": {
     "duration": 0.018343,
     "end_time": "2022-09-02T10:50:37.379028",
     "exception": false,
     "start_time": "2022-09-02T10:50:37.360685",
     "status": "completed"
    },
    "tags": []
   },
   "source": [
    "## Frekuensi Jenis Kelamin"
   ]
  },
  {
   "cell_type": "code",
   "execution_count": 6,
   "id": "60a71d63",
   "metadata": {
    "execution": {
     "iopub.execute_input": "2022-09-02T10:50:37.418125Z",
     "iopub.status.busy": "2022-09-02T10:50:37.417674Z",
     "iopub.status.idle": "2022-09-02T10:50:37.434342Z",
     "shell.execute_reply": "2022-09-02T10:50:37.433283Z"
    },
    "papermill": {
     "duration": 0.038966,
     "end_time": "2022-09-02T10:50:37.436696",
     "exception": false,
     "start_time": "2022-09-02T10:50:37.397730",
     "status": "completed"
    },
    "tags": []
   },
   "outputs": [
    {
     "data": {
      "text/plain": [
       "0    138\n",
       "1    165\n",
       "Name: target, dtype: int64"
      ]
     },
     "execution_count": 6,
     "metadata": {},
     "output_type": "execute_result"
    }
   ],
   "source": [
    "# Cari tahu berapa banyak nilai dari target\n",
    "df[\"target\"].value_counts().sort_values(ascending=True)"
   ]
  },
  {
   "cell_type": "code",
   "execution_count": 7,
   "id": "d76ffd70",
   "metadata": {
    "execution": {
     "iopub.execute_input": "2022-09-02T10:50:37.476939Z",
     "iopub.status.busy": "2022-09-02T10:50:37.476176Z",
     "iopub.status.idle": "2022-09-02T10:50:37.695071Z",
     "shell.execute_reply": "2022-09-02T10:50:37.693859Z"
    },
    "papermill": {
     "duration": 0.241749,
     "end_time": "2022-09-02T10:50:37.697644",
     "exception": false,
     "start_time": "2022-09-02T10:50:37.455895",
     "status": "completed"
    },
    "tags": []
   },
   "outputs": [
    {
     "data": {
      "image/png": "[encoded data removed]",
      "text/plain": [
       "<Figure size 720x432 with 1 Axes>"
      ]
     },
     "metadata": {
      "needs_background": "light"
     },
     "output_type": "display_data"
    }
   ],
   "source": [
    "df[\"target\"].value_counts().sort_values(ascending=True).plot(kind=\"bar\", figsize=(10, 6), color=[\"salmon\", \"lightblue\"]);\n",
    "\n",
    "plt.title(\"Frekuensi Jenis Kelamin\")\n",
    "plt.xlabel(\"0 = Wanita, 1 = Pria\")\n",
    "plt.ylabel(\"Jumlah\")\n",
    "plt.xticks(rotation=0);\n"
   ]
  },
  {
   "cell_type": "code",
   "execution_count": 8,
   "id": "f46f6a31",
   "metadata": {
    "execution": {
     "iopub.execute_input": "2022-09-02T10:50:37.739101Z",
     "iopub.status.busy": "2022-09-02T10:50:37.737754Z",
     "iopub.status.idle": "2022-09-02T10:50:37.756969Z",
     "shell.execute_reply": "2022-09-02T10:50:37.755236Z"
    },
    "papermill": {
     "duration": 0.042599,
     "end_time": "2022-09-02T10:50:37.759545",
     "exception": false,
     "start_time": "2022-09-02T10:50:37.716946",
     "status": "completed"
    },
    "tags": []
   },
   "outputs": [
    {
     "name": "stdout",
     "output_type": "stream",
     "text": [
      "<class 'pandas.core.frame.DataFrame'>\n",
      "RangeIndex: 303 entries, 0 to 302\n",
      "Data columns (total 14 columns):\n",
      " #   Column    Non-Null Count  Dtype  \n",
      "---  ------    --------------  -----  \n",
      " 0   age       303 non-null    int64  \n",
      " 1   sex       303 non-null    int64  \n",
      " 2   cp        303 non-null    int64  \n",
      " 3   trestbps  303 non-null    int64  \n",
      " 4   chol      303 non-null    int64  \n",
      " 5   fbs       303 non-null    int64  \n",
      " 6   restecg   303 non-null    int64  \n",
      " 7   thalach   303 non-null    int64  \n",
      " 8   exang     303 non-null    int64  \n",
      " 9   oldpeak   303 non-null    float64\n",
      " 10  slope     303 non-null    int64  \n",
      " 11  ca        303 non-null    int64  \n",
      " 12  thal      303 non-null    int64  \n",
      " 13  target    303 non-null    int64  \n",
      "dtypes: float64(1), int64(13)\n",
      "memory usage: 33.3 KB\n"
     ]
    }
   ],
   "source": [
    "# melihat informasi dataset\n",
    "df.info()"
   ]
  },
  {
   "cell_type": "code",
   "execution_count": 9,
   "id": "a4128f94",
   "metadata": {
    "execution": {
     "iopub.execute_input": "2022-09-02T10:50:37.800183Z",
     "iopub.status.busy": "2022-09-02T10:50:37.799324Z",
     "iopub.status.idle": "2022-09-02T10:50:37.809334Z",
     "shell.execute_reply": "2022-09-02T10:50:37.808183Z"
    },
    "papermill": {
     "duration": 0.032782,
     "end_time": "2022-09-02T10:50:37.811688",
     "exception": false,
     "start_time": "2022-09-02T10:50:37.778906",
     "status": "completed"
    },
    "tags": []
   },
   "outputs": [
    {
     "data": {
      "text/plain": [
       "age         0\n",
       "sex         0\n",
       "cp          0\n",
       "trestbps    0\n",
       "chol        0\n",
       "fbs         0\n",
       "restecg     0\n",
       "thalach     0\n",
       "exang       0\n",
       "oldpeak     0\n",
       "slope       0\n",
       "ca          0\n",
       "thal        0\n",
       "target      0\n",
       "dtype: int64"
      ]
     },
     "execution_count": 9,
     "metadata": {},
     "output_type": "execute_result"
    }
   ],
   "source": [
    "# melihat data yang hilang\n",
    "df.isna().sum()"
   ]
  },
  {
   "cell_type": "code",
   "execution_count": 10,
   "id": "60c04bf0",
   "metadata": {
    "execution": {
     "iopub.execute_input": "2022-09-02T10:50:37.852653Z",
     "iopub.status.busy": "2022-09-02T10:50:37.852225Z",
     "iopub.status.idle": "2022-09-02T10:50:37.905132Z",
     "shell.execute_reply": "2022-09-02T10:50:37.903679Z"
    },
    "papermill": {
     "duration": 0.076512,
     "end_time": "2022-09-02T10:50:37.907768",
     "exception": false,
     "start_time": "2022-09-02T10:50:37.831256",
     "status": "completed"
    },
    "tags": []
   },
   "outputs": [
    {
     "data": {
      "text/html": [
       "<div>\n",
       "<style scoped>\n",
       "    .dataframe tbody tr th:only-of-type {\n",
       "        vertical-align: middle;\n",
       "    }\n",
       "\n",
       "    .dataframe tbody tr th {\n",
       "        vertical-align: top;\n",
       "    }\n",
       "\n",
       "    .dataframe thead th {\n",
       "        text-align: right;\n",
       "    }\n",
       "</style>\n",
       "<table border=\"1\" class=\"dataframe\">\n",
       "  <thead>\n",
       "    <tr style=\"text-align: right;\">\n",
       "      <th></th>\n",
       "      <th>age</th>\n",
       "      <th>sex</th>\n",
       "      <th>cp</th>\n",
       "      <th>trestbps</th>\n",
       "      <th>chol</th>\n",
       "      <th>fbs</th>\n",
       "      <th>restecg</th>\n",
       "      <th>thalach</th>\n",
       "      <th>exang</th>\n",
       "      <th>oldpeak</th>\n",
       "      <th>slope</th>\n",
       "      <th>ca</th>\n",
       "      <th>thal</th>\n",
       "      <th>target</th>\n",
       "    </tr>\n",
       "  </thead>\n",
       "  <tbody>\n",
       "    <tr>\n",
       "      <th>count</th>\n",
       "      <td>303.000000</td>\n",
       "      <td>303.000000</td>\n",
       "      <td>303.000000</td>\n",
       "      <td>303.000000</td>\n",
       "      <td>303.000000</td>\n",
       "      <td>303.000000</td>\n",
       "      <td>303.000000</td>\n",
       "      <td>303.000000</td>\n",
       "      <td>303.000000</td>\n",
       "      <td>303.000000</td>\n",
       "      <td>303.000000</td>\n",
       "      <td>303.000000</td>\n",
       "      <td>303.000000</td>\n",
       "      <td>303.000000</td>\n",
       "    </tr>\n",
       "    <tr>\n",
       "      <th>mean</th>\n",
       "      <td>54.366337</td>\n",
       "      <td>0.683168</td>\n",
       "      <td>0.966997</td>\n",
       "      <td>131.623762</td>\n",
       "      <td>246.264026</td>\n",
       "      <td>0.148515</td>\n",
       "      <td>0.528053</td>\n",
       "      <td>149.646865</td>\n",
       "      <td>0.326733</td>\n",
       "      <td>1.039604</td>\n",
       "      <td>1.399340</td>\n",
       "      <td>0.729373</td>\n",
       "      <td>2.313531</td>\n",
       "      <td>0.544554</td>\n",
       "    </tr>\n",
       "    <tr>\n",
       "      <th>std</th>\n",
       "      <td>9.082101</td>\n",
       "      <td>0.466011</td>\n",
       "      <td>1.032052</td>\n",
       "      <td>17.538143</td>\n",
       "      <td>51.830751</td>\n",
       "      <td>0.356198</td>\n",
       "      <td>0.525860</td>\n",
       "      <td>22.905161</td>\n",
       "      <td>0.469794</td>\n",
       "      <td>1.161075</td>\n",
       "      <td>0.616226</td>\n",
       "      <td>1.022606</td>\n",
       "      <td>0.612277</td>\n",
       "      <td>0.498835</td>\n",
       "    </tr>\n",
       "    <tr>\n",
       "      <th>min</th>\n",
       "      <td>29.000000</td>\n",
       "      <td>0.000000</td>\n",
       "      <td>0.000000</td>\n",
       "      <td>94.000000</td>\n",
       "      <td>126.000000</td>\n",
       "      <td>0.000000</td>\n",
       "      <td>0.000000</td>\n",
       "      <td>71.000000</td>\n",
       "      <td>0.000000</td>\n",
       "      <td>0.000000</td>\n",
       "      <td>0.000000</td>\n",
       "      <td>0.000000</td>\n",
       "      <td>0.000000</td>\n",
       "      <td>0.000000</td>\n",
       "    </tr>\n",
       "    <tr>\n",
       "      <th>25%</th>\n",
       "      <td>47.500000</td>\n",
       "      <td>0.000000</td>\n",
       "      <td>0.000000</td>\n",
       "      <td>120.000000</td>\n",
       "      <td>211.000000</td>\n",
       "      <td>0.000000</td>\n",
       "      <td>0.000000</td>\n",
       "      <td>133.500000</td>\n",
       "      <td>0.000000</td>\n",
       "      <td>0.000000</td>\n",
       "      <td>1.000000</td>\n",
       "      <td>0.000000</td>\n",
       "      <td>2.000000</td>\n",
       "      <td>0.000000</td>\n",
       "    </tr>\n",
       "    <tr>\n",
       "      <th>50%</th>\n",
       "      <td>55.000000</td>\n",
       "      <td>1.000000</td>\n",
       "      <td>1.000000</td>\n",
       "      <td>130.000000</td>\n",
       "      <td>240.000000</td>\n",
       "      <td>0.000000</td>\n",
       "      <td>1.000000</td>\n",
       "      <td>153.000000</td>\n",
       "      <td>0.000000</td>\n",
       "      <td>0.800000</td>\n",
       "      <td>1.000000</td>\n",
       "      <td>0.000000</td>\n",
       "      <td>2.000000</td>\n",
       "      <td>1.000000</td>\n",
       "    </tr>\n",
       "    <tr>\n",
       "      <th>75%</th>\n",
       "      <td>61.000000</td>\n",
       "      <td>1.000000</td>\n",
       "      <td>2.000000</td>\n",
       "      <td>140.000000</td>\n",
       "      <td>274.500000</td>\n",
       "      <td>0.000000</td>\n",
       "      <td>1.000000</td>\n",
       "      <td>166.000000</td>\n",
       "      <td>1.000000</td>\n",
       "      <td>1.600000</td>\n",
       "      <td>2.000000</td>\n",
       "      <td>1.000000</td>\n",
       "      <td>3.000000</td>\n",
       "      <td>1.000000</td>\n",
       "    </tr>\n",
       "    <tr>\n",
       "      <th>max</th>\n",
       "      <td>77.000000</td>\n",
       "      <td>1.000000</td>\n",
       "      <td>3.000000</td>\n",
       "      <td>200.000000</td>\n",
       "      <td>564.000000</td>\n",
       "      <td>1.000000</td>\n",
       "      <td>2.000000</td>\n",
       "      <td>202.000000</td>\n",
       "      <td>1.000000</td>\n",
       "      <td>6.200000</td>\n",
       "      <td>2.000000</td>\n",
       "      <td>4.000000</td>\n",
       "      <td>3.000000</td>\n",
       "      <td>1.000000</td>\n",
       "    </tr>\n",
       "  </tbody>\n",
       "</table>\n",
       "</div>"
      ],
      "text/plain": [
       "              age         sex          cp    trestbps        chol         fbs  \\\n",
       "count  303.000000  303.000000  303.000000  303.000000  303.000000  303.000000   \n",
       "mean    54.366337    0.683168    0.966997  131.623762  246.264026    0.148515   \n",
       "std      9.082101    0.466011    1.032052   17.538143   51.830751    0.356198   \n",
       "min     29.000000    0.000000    0.000000   94.000000  126.000000    0.000000   \n",
       "25%     47.500000    0.000000    0.000000  120.000000  211.000000    0.000000   \n",
       "50%     55.000000    1.000000    1.000000  130.000000  240.000000    0.000000   \n",
       "75%     61.000000    1.000000    2.000000  140.000000  274.500000    0.000000   \n",
       "max     77.000000    1.000000    3.000000  200.000000  564.000000    1.000000   \n",
       "\n",
       "          restecg     thalach       exang     oldpeak       slope          ca  \\\n",
       "count  303.000000  303.000000  303.000000  303.000000  303.000000  303.000000   \n",
       "mean     0.528053  149.646865    0.326733    1.039604    1.399340    0.729373   \n",
       "std      0.525860   22.905161    0.469794    1.161075    0.616226    1.022606   \n",
       "min      0.000000   71.000000    0.000000    0.000000    0.000000    0.000000   \n",
       "25%      0.000000  133.500000    0.000000    0.000000    1.000000    0.000000   \n",
       "50%      1.000000  153.000000    0.000000    0.800000    1.000000    0.000000   \n",
       "75%      1.000000  166.000000    1.000000    1.600000    2.000000    1.000000   \n",
       "max      2.000000  202.000000    1.000000    6.200000    2.000000    4.000000   \n",
       "\n",
       "             thal      target  \n",
       "count  303.000000  303.000000  \n",
       "mean     2.313531    0.544554  \n",
       "std      0.612277    0.498835  \n",
       "min      0.000000    0.000000  \n",
       "25%      2.000000    0.000000  \n",
       "50%      2.000000    1.000000  \n",
       "75%      3.000000    1.000000  \n",
       "max      3.000000    1.000000  "
      ]
     },
     "execution_count": 10,
     "metadata": {},
     "output_type": "execute_result"
    }
   ],
   "source": [
    "df.describe()"
   ]
  },
  {
   "cell_type": "markdown",
   "id": "c466fc25",
   "metadata": {
    "papermill": {
     "duration": 0.019417,
     "end_time": "2022-09-02T10:50:37.947069",
     "exception": false,
     "start_time": "2022-09-02T10:50:37.927652",
     "status": "completed"
    },
    "tags": []
   },
   "source": [
    "## Frekuensi Penyakit Jantung dengan Jenis Kelamin"
   ]
  },
  {
   "cell_type": "code",
   "execution_count": 11,
   "id": "0b6ca1a7",
   "metadata": {
    "execution": {
     "iopub.execute_input": "2022-09-02T10:50:37.988712Z",
     "iopub.status.busy": "2022-09-02T10:50:37.988324Z",
     "iopub.status.idle": "2022-09-02T10:50:37.996053Z",
     "shell.execute_reply": "2022-09-02T10:50:37.995167Z"
    },
    "papermill": {
     "duration": 0.031335,
     "end_time": "2022-09-02T10:50:37.998080",
     "exception": false,
     "start_time": "2022-09-02T10:50:37.966745",
     "status": "completed"
    },
    "tags": []
   },
   "outputs": [
    {
     "data": {
      "text/plain": [
       "1    207\n",
       "0     96\n",
       "Name: sex, dtype: int64"
      ]
     },
     "execution_count": 11,
     "metadata": {},
     "output_type": "execute_result"
    }
   ],
   "source": [
    "df.sex.value_counts()"
   ]
  },
  {
   "cell_type": "code",
   "execution_count": 12,
   "id": "dffc241e",
   "metadata": {
    "execution": {
     "iopub.execute_input": "2022-09-02T10:50:38.039608Z",
     "iopub.status.busy": "2022-09-02T10:50:38.039210Z",
     "iopub.status.idle": "2022-09-02T10:50:38.064232Z",
     "shell.execute_reply": "2022-09-02T10:50:38.063306Z"
    },
    "papermill": {
     "duration": 0.048529,
     "end_time": "2022-09-02T10:50:38.066379",
     "exception": false,
     "start_time": "2022-09-02T10:50:38.017850",
     "status": "completed"
    },
    "tags": []
   },
   "outputs": [
    {
     "data": {
      "text/html": [
       "<div>\n",
       "<style scoped>\n",
       "    .dataframe tbody tr th:only-of-type {\n",
       "        vertical-align: middle;\n",
       "    }\n",
       "\n",
       "    .dataframe tbody tr th {\n",
       "        vertical-align: top;\n",
       "    }\n",
       "\n",
       "    .dataframe thead th {\n",
       "        text-align: right;\n",
       "    }\n",
       "</style>\n",
       "<table border=\"1\" class=\"dataframe\">\n",
       "  <thead>\n",
       "    <tr style=\"text-align: right;\">\n",
       "      <th>sex</th>\n",
       "      <th>0</th>\n",
       "      <th>1</th>\n",
       "    </tr>\n",
       "    <tr>\n",
       "      <th>target</th>\n",
       "      <th></th>\n",
       "      <th></th>\n",
       "    </tr>\n",
       "  </thead>\n",
       "  <tbody>\n",
       "    <tr>\n",
       "      <th>0</th>\n",
       "      <td>24</td>\n",
       "      <td>114</td>\n",
       "    </tr>\n",
       "    <tr>\n",
       "      <th>1</th>\n",
       "      <td>72</td>\n",
       "      <td>93</td>\n",
       "    </tr>\n",
       "  </tbody>\n",
       "</table>\n",
       "</div>"
      ],
      "text/plain": [
       "sex      0    1\n",
       "target         \n",
       "0       24  114\n",
       "1       72   93"
      ]
     },
     "execution_count": 12,
     "metadata": {},
     "output_type": "execute_result"
    }
   ],
   "source": [
    "# bandingkan kolom target dengan sex\n",
    "pd.crosstab(df.target, df.sex)"
   ]
  },
  {
   "cell_type": "code",
   "execution_count": 13,
   "id": "e1ae658b",
   "metadata": {
    "execution": {
     "iopub.execute_input": "2022-09-02T10:50:38.108215Z",
     "iopub.status.busy": "2022-09-02T10:50:38.107819Z",
     "iopub.status.idle": "2022-09-02T10:50:38.350053Z",
     "shell.execute_reply": "2022-09-02T10:50:38.348783Z"
    },
    "papermill": {
     "duration": 0.267339,
     "end_time": "2022-09-02T10:50:38.353718",
     "exception": false,
     "start_time": "2022-09-02T10:50:38.086379",
     "status": "completed"
    },
    "tags": []
   },
   "outputs": [
    {
     "data": {
      "image/png": "[encoded data removed]",
      "text/plain": [
       "<Figure size 720x432 with 1 Axes>"
      ]
     },
     "metadata": {
      "needs_background": "light"
     },
     "output_type": "display_data"
    }
   ],
   "source": [
    "# membuat plot crosstab\n",
    "pd.crosstab(df.target, df.sex).plot(kind=\"bar\",\n",
    "                                    figsize=(10, 6),\n",
    "                                    color=[\"salmon\", \"lightblue\"]);\n",
    "\n",
    "plt.title(\"Frekuensi Penyakit Jantung dengan Jenis Kelamin\");\n",
    "plt.xlabel(\"0 = Tidak Sakit, 1 = Sakit\");\n",
    "plt.ylabel(\"Jumlah\");\n",
    "plt.legend([\"Wanita\", \"Pria\"]);\n",
    "plt.xticks(rotation=0);"
   ]
  },
  {
   "cell_type": "markdown",
   "id": "58d696df",
   "metadata": {
    "papermill": {
     "duration": 0.019887,
     "end_time": "2022-09-02T10:50:38.395558",
     "exception": false,
     "start_time": "2022-09-02T10:50:38.375671",
     "status": "completed"
    },
    "tags": []
   },
   "source": [
    "Karena ada 96 pasien wanita dan 72 diantaranya memiliki nilai positif penyakit jantung, jika pasiennya adalah seorang wanita, ada kemungkinan 75% dia menderita penyakit jantung.\n",
    "\n",
    "Sedangkan untuk pasien pria, ada 207 hampir setengahnya 45% kemungkinan menunjukkan adanya penyakit jantung.\n",
    "\n",
    "Jadi dapat disimpulkan berdasarkan grafik di atas, kemungkinan seseorang terkena penyakit jantung adalah 59%."
   ]
  },
  {
   "cell_type": "markdown",
   "id": "85f89081",
   "metadata": {
    "papermill": {
     "duration": 0.019701,
     "end_time": "2022-09-02T10:50:38.435274",
     "exception": false,
     "start_time": "2022-09-02T10:50:38.415573",
     "status": "completed"
    },
    "tags": []
   },
   "source": [
    "## Usia dan Denyut Jantung Maksimal"
   ]
  },
  {
   "cell_type": "code",
   "execution_count": 14,
   "id": "ef798e38",
   "metadata": {
    "execution": {
     "iopub.execute_input": "2022-09-02T10:50:38.477778Z",
     "iopub.status.busy": "2022-09-02T10:50:38.477015Z",
     "iopub.status.idle": "2022-09-02T10:50:38.773706Z",
     "shell.execute_reply": "2022-09-02T10:50:38.772636Z"
    },
    "papermill": {
     "duration": 0.320817,
     "end_time": "2022-09-02T10:50:38.776149",
     "exception": false,
     "start_time": "2022-09-02T10:50:38.455332",
     "status": "completed"
    },
    "tags": []
   },
   "outputs": [
    {
     "data": {
      "image/png": "[encoded data removed]",
      "text/plain": [
       "<Figure size 720x432 with 1 Axes>"
      ]
     },
     "metadata": {
      "needs_background": "light"
     },
     "output_type": "display_data"
    }
   ],
   "source": [
    "plt.figure(figsize=(10, 6))\n",
    "\n",
    "# scatter\n",
    "plt.scatter(df.age[df.target==1],\n",
    "            df.thalach[df.target==1],\n",
    "            c=\"salmon\")\n",
    "            \n",
    "plt.scatter(df.age[df.target==0],\n",
    "            df.thalach[df.target==0],\n",
    "            c=\"lightblue\")\n",
    "            \n",
    "plt.title(\"Penyakit Jantung dalam Usia dan Denyut Jantung Maksimal\")\n",
    "plt.xlabel(\"Umur\")\n",
    "plt.ylabel(\"Denyut Jantung Maksimal\")\n",
    "plt.legend([\"Sakit\", \"Tidak Sakit\"]);"
   ]
  },
  {
   "cell_type": "markdown",
   "id": "014397af",
   "metadata": {
    "papermill": {
     "duration": 0.020539,
     "end_time": "2022-09-02T10:50:38.817414",
     "exception": false,
     "start_time": "2022-09-02T10:50:38.796875",
     "status": "completed"
    },
    "tags": []
   },
   "source": [
    "Pada scatter plot diatas tampak semakin muda seseorang, semakin tinggi detak jantung maksimum mereka."
   ]
  },
  {
   "cell_type": "code",
   "execution_count": 15,
   "id": "bb5db7c5",
   "metadata": {
    "execution": {
     "iopub.execute_input": "2022-09-02T10:50:38.861174Z",
     "iopub.status.busy": "2022-09-02T10:50:38.860384Z",
     "iopub.status.idle": "2022-09-02T10:50:39.061518Z",
     "shell.execute_reply": "2022-09-02T10:50:39.060596Z"
    },
    "papermill": {
     "duration": 0.225749,
     "end_time": "2022-09-02T10:50:39.063859",
     "exception": false,
     "start_time": "2022-09-02T10:50:38.838110",
     "status": "completed"
    },
    "tags": []
   },
   "outputs": [
    {
     "data": {
      "image/png": "[encoded data removed]",
      "text/plain": [
       "<Figure size 432x288 with 1 Axes>"
      ]
     },
     "metadata": {
      "needs_background": "light"
     },
     "output_type": "display_data"
    }
   ],
   "source": [
    "# cek distribusi kolom umur\n",
    "df.age.plot.hist();"
   ]
  },
  {
   "cell_type": "markdown",
   "id": "02657977",
   "metadata": {
    "papermill": {
     "duration": 0.020521,
     "end_time": "2022-09-02T10:50:39.105537",
     "exception": false,
     "start_time": "2022-09-02T10:50:39.085016",
     "status": "completed"
    },
    "tags": []
   },
   "source": [
    "Ini adalah distribusi normal tetapi sedikit bergeser kekanan."
   ]
  },
  {
   "cell_type": "markdown",
   "id": "35e2e0aa",
   "metadata": {
    "papermill": {
     "duration": 0.020452,
     "end_time": "2022-09-02T10:50:39.146849",
     "exception": false,
     "start_time": "2022-09-02T10:50:39.126397",
     "status": "completed"
    },
    "tags": []
   },
   "source": [
    "## Frekuensi Penyakit Jantung per Jenis Nyeri Dada\n",
    "\n",
    "Mencoba variabel lain, kali ini nyeri dada (cp)"
   ]
  },
  {
   "cell_type": "code",
   "execution_count": 16,
   "id": "ce83cfc7",
   "metadata": {
    "execution": {
     "iopub.execute_input": "2022-09-02T10:50:39.190688Z",
     "iopub.status.busy": "2022-09-02T10:50:39.189928Z",
     "iopub.status.idle": "2022-09-02T10:50:39.210341Z",
     "shell.execute_reply": "2022-09-02T10:50:39.209221Z"
    },
    "papermill": {
     "duration": 0.045287,
     "end_time": "2022-09-02T10:50:39.212893",
     "exception": false,
     "start_time": "2022-09-02T10:50:39.167606",
     "status": "completed"
    },
    "tags": []
   },
   "outputs": [
    {
     "data": {
      "text/html": [
       "<div>\n",
       "<style scoped>\n",
       "    .dataframe tbody tr th:only-of-type {\n",
       "        vertical-align: middle;\n",
       "    }\n",
       "\n",
       "    .dataframe tbody tr th {\n",
       "        vertical-align: top;\n",
       "    }\n",
       "\n",
       "    .dataframe thead th {\n",
       "        text-align: right;\n",
       "    }\n",
       "</style>\n",
       "<table border=\"1\" class=\"dataframe\">\n",
       "  <thead>\n",
       "    <tr style=\"text-align: right;\">\n",
       "      <th>target</th>\n",
       "      <th>0</th>\n",
       "      <th>1</th>\n",
       "    </tr>\n",
       "    <tr>\n",
       "      <th>cp</th>\n",
       "      <th></th>\n",
       "      <th></th>\n",
       "    </tr>\n",
       "  </thead>\n",
       "  <tbody>\n",
       "    <tr>\n",
       "      <th>0</th>\n",
       "      <td>104</td>\n",
       "      <td>39</td>\n",
       "    </tr>\n",
       "    <tr>\n",
       "      <th>1</th>\n",
       "      <td>9</td>\n",
       "      <td>41</td>\n",
       "    </tr>\n",
       "    <tr>\n",
       "      <th>2</th>\n",
       "      <td>18</td>\n",
       "      <td>69</td>\n",
       "    </tr>\n",
       "    <tr>\n",
       "      <th>3</th>\n",
       "      <td>7</td>\n",
       "      <td>16</td>\n",
       "    </tr>\n",
       "  </tbody>\n",
       "</table>\n",
       "</div>"
      ],
      "text/plain": [
       "target    0   1\n",
       "cp             \n",
       "0       104  39\n",
       "1         9  41\n",
       "2        18  69\n",
       "3         7  16"
      ]
     },
     "execution_count": 16,
     "metadata": {},
     "output_type": "execute_result"
    }
   ],
   "source": [
    "pd.crosstab(df.cp, df.target)"
   ]
  },
  {
   "cell_type": "code",
   "execution_count": 17,
   "id": "191af73b",
   "metadata": {
    "execution": {
     "iopub.execute_input": "2022-09-02T10:50:39.258160Z",
     "iopub.status.busy": "2022-09-02T10:50:39.257421Z",
     "iopub.status.idle": "2022-09-02T10:50:39.502687Z",
     "shell.execute_reply": "2022-09-02T10:50:39.501830Z"
    },
    "papermill": {
     "duration": 0.271053,
     "end_time": "2022-09-02T10:50:39.505422",
     "exception": false,
     "start_time": "2022-09-02T10:50:39.234369",
     "status": "completed"
    },
    "tags": []
   },
   "outputs": [
    {
     "data": {
      "image/png": "[encoded data removed]",
      "text/plain": [
       "<Figure size 720x432 with 1 Axes>"
      ]
     },
     "metadata": {
      "needs_background": "light"
     },
     "output_type": "display_data"
    }
   ],
   "source": [
    "pd.crosstab(df.cp, df.target).plot(kind=\"bar\",\n",
    "                                   figsize=(10, 6),\n",
    "                                   color=[\"lightblue\", \"salmon\"])\n",
    "\n",
    "plt.title(\"Frekuensi Penyakit Jantung per Jenis Nyeri Dada\")\n",
    "plt.xlabel(\"Jenis Nyeri Dada\") \n",
    "plt.ylabel(\"Frekuensi\")\n",
    "plt.legend([\"Tidak Sakit\", \"Sakit\"])\n",
    "plt.xticks(rotation=0);"
   ]
  },
  {
   "cell_type": "markdown",
   "id": "d9850d48",
   "metadata": {
    "papermill": {
     "duration": 0.021843,
     "end_time": "2022-09-02T10:50:39.549078",
     "exception": false,
     "start_time": "2022-09-02T10:50:39.527235",
     "status": "completed"
    },
    "tags": []
   },
   "source": [
    "**Kamus data**\n",
    "\n",
    "- cp - chest pain type \n",
    "    * 0: Typical angina: nyeri dada terkait mengurangi suplai darah ke jantung\n",
    "    * 1: Atypical angina: nyeri dada tidak berhubungan dengan jantung\n",
    "    * 2: Non-anginal pain: biasanya kejang esofagus (tidak berhubungan dengan jantung)\n",
    "    * 3: Asymptomatic: nyeri dada tidak menunjukkan tanda-tanda penyakit\n",
    "\n",
    "Bagian yang menarik disini, Atypical Angina(1) menyatakan itu tidak berhubungan dengan jantung tetapi tampaknya memiliki rasio yang lebih tinggi daripada Typical Angina(0) yang berhubungan dengan jantung.\n",
    "\n",
    "Jadi apa itu Atypical Angina?\n",
    "Pada kasus seperti ini penting untuk diingat, apabila kamus data tidak memberi informasi yang cukup, kita perlu melakukan penelitian lebih lanjut tentang ini. Kita bisa bertanya kepada ahlinya, tetapi karena ini hanya proyek latihan, saya mencoba memahaminya dengan mencari di Google."
   ]
  },
  {
   "cell_type": "markdown",
   "id": "29afcf17",
   "metadata": {
    "papermill": {
     "duration": 0.021136,
     "end_time": "2022-09-02T10:50:39.592231",
     "exception": false,
     "start_time": "2022-09-02T10:50:39.571095",
     "status": "completed"
    },
    "tags": []
   },
   "source": [
    "## Korelasi antara Variabel Bebas"
   ]
  },
  {
   "cell_type": "markdown",
   "id": "d9220dc2",
   "metadata": {
    "papermill": {
     "duration": 0.020944,
     "end_time": "2022-09-02T10:50:39.634604",
     "exception": false,
     "start_time": "2022-09-02T10:50:39.613660",
     "status": "completed"
    },
    "tags": []
   },
   "source": [
    "Tabel korelasi memberikan gambaran tentang variabel mana yang mungkin atau tidak berdampak pada variabel target."
   ]
  },
  {
   "cell_type": "code",
   "execution_count": 18,
   "id": "47367c81",
   "metadata": {
    "execution": {
     "iopub.execute_input": "2022-09-02T10:50:39.678763Z",
     "iopub.status.busy": "2022-09-02T10:50:39.678377Z",
     "iopub.status.idle": "2022-09-02T10:50:39.704079Z",
     "shell.execute_reply": "2022-09-02T10:50:39.702844Z"
    },
    "papermill": {
     "duration": 0.050573,
     "end_time": "2022-09-02T10:50:39.706520",
     "exception": false,
     "start_time": "2022-09-02T10:50:39.655947",
     "status": "completed"
    },
    "tags": []
   },
   "outputs": [
    {
     "data": {
      "text/html": [
       "<div>\n",
       "<style scoped>\n",
       "    .dataframe tbody tr th:only-of-type {\n",
       "        vertical-align: middle;\n",
       "    }\n",
       "\n",
       "    .dataframe tbody tr th {\n",
       "        vertical-align: top;\n",
       "    }\n",
       "\n",
       "    .dataframe thead th {\n",
       "        text-align: right;\n",
       "    }\n",
       "</style>\n",
       "<table border=\"1\" class=\"dataframe\">\n",
       "  <thead>\n",
       "    <tr style=\"text-align: right;\">\n",
       "      <th></th>\n",
       "      <th>age</th>\n",
       "      <th>sex</th>\n",
       "      <th>cp</th>\n",
       "      <th>trestbps</th>\n",
       "      <th>chol</th>\n",
       "      <th>fbs</th>\n",
       "      <th>restecg</th>\n",
       "      <th>thalach</th>\n",
       "      <th>exang</th>\n",
       "      <th>oldpeak</th>\n",
       "      <th>slope</th>\n",
       "      <th>ca</th>\n",
       "      <th>thal</th>\n",
       "      <th>target</th>\n",
       "    </tr>\n",
       "  </thead>\n",
       "  <tbody>\n",
       "    <tr>\n",
       "      <th>age</th>\n",
       "      <td>1.000000</td>\n",
       "      <td>-0.098447</td>\n",
       "      <td>-0.068653</td>\n",
       "      <td>0.279351</td>\n",
       "      <td>0.213678</td>\n",
       "      <td>0.121308</td>\n",
       "      <td>-0.116211</td>\n",
       "      <td>-0.398522</td>\n",
       "      <td>0.096801</td>\n",
       "      <td>0.210013</td>\n",
       "      <td>-0.168814</td>\n",
       "      <td>0.276326</td>\n",
       "      <td>0.068001</td>\n",
       "      <td>-0.225439</td>\n",
       "    </tr>\n",
       "    <tr>\n",
       "      <th>sex</th>\n",
       "      <td>-0.098447</td>\n",
       "      <td>1.000000</td>\n",
       "      <td>-0.049353</td>\n",
       "      <td>-0.056769</td>\n",
       "      <td>-0.197912</td>\n",
       "      <td>0.045032</td>\n",
       "      <td>-0.058196</td>\n",
       "      <td>-0.044020</td>\n",
       "      <td>0.141664</td>\n",
       "      <td>0.096093</td>\n",
       "      <td>-0.030711</td>\n",
       "      <td>0.118261</td>\n",
       "      <td>0.210041</td>\n",
       "      <td>-0.280937</td>\n",
       "    </tr>\n",
       "    <tr>\n",
       "      <th>cp</th>\n",
       "      <td>-0.068653</td>\n",
       "      <td>-0.049353</td>\n",
       "      <td>1.000000</td>\n",
       "      <td>0.047608</td>\n",
       "      <td>-0.076904</td>\n",
       "      <td>0.094444</td>\n",
       "      <td>0.044421</td>\n",
       "      <td>0.295762</td>\n",
       "      <td>-0.394280</td>\n",
       "      <td>-0.149230</td>\n",
       "      <td>0.119717</td>\n",
       "      <td>-0.181053</td>\n",
       "      <td>-0.161736</td>\n",
       "      <td>0.433798</td>\n",
       "    </tr>\n",
       "    <tr>\n",
       "      <th>trestbps</th>\n",
       "      <td>0.279351</td>\n",
       "      <td>-0.056769</td>\n",
       "      <td>0.047608</td>\n",
       "      <td>1.000000</td>\n",
       "      <td>0.123174</td>\n",
       "      <td>0.177531</td>\n",
       "      <td>-0.114103</td>\n",
       "      <td>-0.046698</td>\n",
       "      <td>0.067616</td>\n",
       "      <td>0.193216</td>\n",
       "      <td>-0.121475</td>\n",
       "      <td>0.101389</td>\n",
       "      <td>0.062210</td>\n",
       "      <td>-0.144931</td>\n",
       "    </tr>\n",
       "    <tr>\n",
       "      <th>chol</th>\n",
       "      <td>0.213678</td>\n",
       "      <td>-0.197912</td>\n",
       "      <td>-0.076904</td>\n",
       "      <td>0.123174</td>\n",
       "      <td>1.000000</td>\n",
       "      <td>0.013294</td>\n",
       "      <td>-0.151040</td>\n",
       "      <td>-0.009940</td>\n",
       "      <td>0.067023</td>\n",
       "      <td>0.053952</td>\n",
       "      <td>-0.004038</td>\n",
       "      <td>0.070511</td>\n",
       "      <td>0.098803</td>\n",
       "      <td>-0.085239</td>\n",
       "    </tr>\n",
       "    <tr>\n",
       "      <th>fbs</th>\n",
       "      <td>0.121308</td>\n",
       "      <td>0.045032</td>\n",
       "      <td>0.094444</td>\n",
       "      <td>0.177531</td>\n",
       "      <td>0.013294</td>\n",
       "      <td>1.000000</td>\n",
       "      <td>-0.084189</td>\n",
       "      <td>-0.008567</td>\n",
       "      <td>0.025665</td>\n",
       "      <td>0.005747</td>\n",
       "      <td>-0.059894</td>\n",
       "      <td>0.137979</td>\n",
       "      <td>-0.032019</td>\n",
       "      <td>-0.028046</td>\n",
       "    </tr>\n",
       "    <tr>\n",
       "      <th>restecg</th>\n",
       "      <td>-0.116211</td>\n",
       "      <td>-0.058196</td>\n",
       "      <td>0.044421</td>\n",
       "      <td>-0.114103</td>\n",
       "      <td>-0.151040</td>\n",
       "      <td>-0.084189</td>\n",
       "      <td>1.000000</td>\n",
       "      <td>0.044123</td>\n",
       "      <td>-0.070733</td>\n",
       "      <td>-0.058770</td>\n",
       "      <td>0.093045</td>\n",
       "      <td>-0.072042</td>\n",
       "      <td>-0.011981</td>\n",
       "      <td>0.137230</td>\n",
       "    </tr>\n",
       "    <tr>\n",
       "      <th>thalach</th>\n",
       "      <td>-0.398522</td>\n",
       "      <td>-0.044020</td>\n",
       "      <td>0.295762</td>\n",
       "      <td>-0.046698</td>\n",
       "      <td>-0.009940</td>\n",
       "      <td>-0.008567</td>\n",
       "      <td>0.044123</td>\n",
       "      <td>1.000000</td>\n",
       "      <td>-0.378812</td>\n",
       "      <td>-0.344187</td>\n",
       "      <td>0.386784</td>\n",
       "      <td>-0.213177</td>\n",
       "      <td>-0.096439</td>\n",
       "      <td>0.421741</td>\n",
       "    </tr>\n",
       "    <tr>\n",
       "      <th>exang</th>\n",
       "      <td>0.096801</td>\n",
       "      <td>0.141664</td>\n",
       "      <td>-0.394280</td>\n",
       "      <td>0.067616</td>\n",
       "      <td>0.067023</td>\n",
       "      <td>0.025665</td>\n",
       "      <td>-0.070733</td>\n",
       "      <td>-0.378812</td>\n",
       "      <td>1.000000</td>\n",
       "      <td>0.288223</td>\n",
       "      <td>-0.257748</td>\n",
       "      <td>0.115739</td>\n",
       "      <td>0.206754</td>\n",
       "      <td>-0.436757</td>\n",
       "    </tr>\n",
       "    <tr>\n",
       "      <th>oldpeak</th>\n",
       "      <td>0.210013</td>\n",
       "      <td>0.096093</td>\n",
       "      <td>-0.149230</td>\n",
       "      <td>0.193216</td>\n",
       "      <td>0.053952</td>\n",
       "      <td>0.005747</td>\n",
       "      <td>-0.058770</td>\n",
       "      <td>-0.344187</td>\n",
       "      <td>0.288223</td>\n",
       "      <td>1.000000</td>\n",
       "      <td>-0.577537</td>\n",
       "      <td>0.222682</td>\n",
       "      <td>0.210244</td>\n",
       "      <td>-0.430696</td>\n",
       "    </tr>\n",
       "    <tr>\n",
       "      <th>slope</th>\n",
       "      <td>-0.168814</td>\n",
       "      <td>-0.030711</td>\n",
       "      <td>0.119717</td>\n",
       "      <td>-0.121475</td>\n",
       "      <td>-0.004038</td>\n",
       "      <td>-0.059894</td>\n",
       "      <td>0.093045</td>\n",
       "      <td>0.386784</td>\n",
       "      <td>-0.257748</td>\n",
       "      <td>-0.577537</td>\n",
       "      <td>1.000000</td>\n",
       "      <td>-0.080155</td>\n",
       "      <td>-0.104764</td>\n",
       "      <td>0.345877</td>\n",
       "    </tr>\n",
       "    <tr>\n",
       "      <th>ca</th>\n",
       "      <td>0.276326</td>\n",
       "      <td>0.118261</td>\n",
       "      <td>-0.181053</td>\n",
       "      <td>0.101389</td>\n",
       "      <td>0.070511</td>\n",
       "      <td>0.137979</td>\n",
       "      <td>-0.072042</td>\n",
       "      <td>-0.213177</td>\n",
       "      <td>0.115739</td>\n",
       "      <td>0.222682</td>\n",
       "      <td>-0.080155</td>\n",
       "      <td>1.000000</td>\n",
       "      <td>0.151832</td>\n",
       "      <td>-0.391724</td>\n",
       "    </tr>\n",
       "    <tr>\n",
       "      <th>thal</th>\n",
       "      <td>0.068001</td>\n",
       "      <td>0.210041</td>\n",
       "      <td>-0.161736</td>\n",
       "      <td>0.062210</td>\n",
       "      <td>0.098803</td>\n",
       "      <td>-0.032019</td>\n",
       "      <td>-0.011981</td>\n",
       "      <td>-0.096439</td>\n",
       "      <td>0.206754</td>\n",
       "      <td>0.210244</td>\n",
       "      <td>-0.104764</td>\n",
       "      <td>0.151832</td>\n",
       "      <td>1.000000</td>\n",
       "      <td>-0.344029</td>\n",
       "    </tr>\n",
       "    <tr>\n",
       "      <th>target</th>\n",
       "      <td>-0.225439</td>\n",
       "      <td>-0.280937</td>\n",
       "      <td>0.433798</td>\n",
       "      <td>-0.144931</td>\n",
       "      <td>-0.085239</td>\n",
       "      <td>-0.028046</td>\n",
       "      <td>0.137230</td>\n",
       "      <td>0.421741</td>\n",
       "      <td>-0.436757</td>\n",
       "      <td>-0.430696</td>\n",
       "      <td>0.345877</td>\n",
       "      <td>-0.391724</td>\n",
       "      <td>-0.344029</td>\n",
       "      <td>1.000000</td>\n",
       "    </tr>\n",
       "  </tbody>\n",
       "</table>\n",
       "</div>"
      ],
      "text/plain": [
       "               age       sex        cp  trestbps      chol       fbs  \\\n",
       "age       1.000000 -0.098447 -0.068653  0.279351  0.213678  0.121308   \n",
       "sex      -0.098447  1.000000 -0.049353 -0.056769 -0.197912  0.045032   \n",
       "cp       -0.068653 -0.049353  1.000000  0.047608 -0.076904  0.094444   \n",
       "trestbps  0.279351 -0.056769  0.047608  1.000000  0.123174  0.177531   \n",
       "chol      0.213678 -0.197912 -0.076904  0.123174  1.000000  0.013294   \n",
       "fbs       0.121308  0.045032  0.094444  0.177531  0.013294  1.000000   \n",
       "restecg  -0.116211 -0.058196  0.044421 -0.114103 -0.151040 -0.084189   \n",
       "thalach  -0.398522 -0.044020  0.295762 -0.046698 -0.009940 -0.008567   \n",
       "exang     0.096801  0.141664 -0.394280  0.067616  0.067023  0.025665   \n",
       "oldpeak   0.210013  0.096093 -0.149230  0.193216  0.053952  0.005747   \n",
       "slope    -0.168814 -0.030711  0.119717 -0.121475 -0.004038 -0.059894   \n",
       "ca        0.276326  0.118261 -0.181053  0.101389  0.070511  0.137979   \n",
       "thal      0.068001  0.210041 -0.161736  0.062210  0.098803 -0.032019   \n",
       "target   -0.225439 -0.280937  0.433798 -0.144931 -0.085239 -0.028046   \n",
       "\n",
       "           restecg   thalach     exang   oldpeak     slope        ca  \\\n",
       "age      -0.116211 -0.398522  0.096801  0.210013 -0.168814  0.276326   \n",
       "sex      -0.058196 -0.044020  0.141664  0.096093 -0.030711  0.118261   \n",
       "cp        0.044421  0.295762 -0.394280 -0.149230  0.119717 -0.181053   \n",
       "trestbps -0.114103 -0.046698  0.067616  0.193216 -0.121475  0.101389   \n",
       "chol     -0.151040 -0.009940  0.067023  0.053952 -0.004038  0.070511   \n",
       "fbs      -0.084189 -0.008567  0.025665  0.005747 -0.059894  0.137979   \n",
       "restecg   1.000000  0.044123 -0.070733 -0.058770  0.093045 -0.072042   \n",
       "thalach   0.044123  1.000000 -0.378812 -0.344187  0.386784 -0.213177   \n",
       "exang    -0.070733 -0.378812  1.000000  0.288223 -0.257748  0.115739   \n",
       "oldpeak  -0.058770 -0.344187  0.288223  1.000000 -0.577537  0.222682   \n",
       "slope     0.093045  0.386784 -0.257748 -0.577537  1.000000 -0.080155   \n",
       "ca       -0.072042 -0.213177  0.115739  0.222682 -0.080155  1.000000   \n",
       "thal     -0.011981 -0.096439  0.206754  0.210244 -0.104764  0.151832   \n",
       "target    0.137230  0.421741 -0.436757 -0.430696  0.345877 -0.391724   \n",
       "\n",
       "              thal    target  \n",
       "age       0.068001 -0.225439  \n",
       "sex       0.210041 -0.280937  \n",
       "cp       -0.161736  0.433798  \n",
       "trestbps  0.062210 -0.144931  \n",
       "chol      0.098803 -0.085239  \n",
       "fbs      -0.032019 -0.028046  \n",
       "restecg  -0.011981  0.137230  \n",
       "thalach  -0.096439  0.421741  \n",
       "exang     0.206754 -0.436757  \n",
       "oldpeak   0.210244 -0.430696  \n",
       "slope    -0.104764  0.345877  \n",
       "ca        0.151832 -0.391724  \n",
       "thal      1.000000 -0.344029  \n",
       "target   -0.344029  1.000000  "
      ]
     },
     "execution_count": 18,
     "metadata": {},
     "output_type": "execute_result"
    }
   ],
   "source": [
    "corr_matrix = df.corr()\n",
    "corr_matrix"
   ]
  },
  {
   "cell_type": "code",
   "execution_count": 19,
   "id": "9581bd88",
   "metadata": {
    "execution": {
     "iopub.execute_input": "2022-09-02T10:50:39.752567Z",
     "iopub.status.busy": "2022-09-02T10:50:39.751729Z",
     "iopub.status.idle": "2022-09-02T10:50:41.075604Z",
     "shell.execute_reply": "2022-09-02T10:50:41.074666Z"
    },
    "papermill": {
     "duration": 1.350297,
     "end_time": "2022-09-02T10:50:41.078581",
     "exception": false,
     "start_time": "2022-09-02T10:50:39.728284",
     "status": "completed"
    },
    "tags": []
   },
   "outputs": [
    {
     "data": {
      "image/png": "[encoded data removed]",
      "text/plain": [
       "<Figure size 1080x720 with 2 Axes>"
      ]
     },
     "metadata": {
      "needs_background": "light"
     },
     "output_type": "display_data"
    }
   ],
   "source": [
    "corr_matrix = df.corr()\n",
    "plt.figure(figsize=(15,10))\n",
    "sns.heatmap(corr_matrix,\n",
    "            annot=True,\n",
    "            linewidth=5,\n",
    "            fmt=\".2f\",\n",
    "            cmap=\"YlGnBu\");"
   ]
  },
  {
   "cell_type": "markdown",
   "id": "0e8b702b",
   "metadata": {
    "papermill": {
     "duration": 0.024083,
     "end_time": "2022-09-02T10:50:41.127241",
     "exception": false,
     "start_time": "2022-09-02T10:50:41.103158",
     "status": "completed"
    },
    "tags": []
   },
   "source": [
    "Koefisien korelasi bernilai negatif, berarti hubungan antara kedua variabel tersebut negatif atau saling berbanding terbalik. Koefisien korelasi bernilai positif, berarti hubungan antara kedua variabel tersebut positif atau saling berbanding lurus."
   ]
  },
  {
   "cell_type": "markdown",
   "id": "b8cfff8c",
   "metadata": {
    "papermill": {
     "duration": 0.02313,
     "end_time": "2022-09-02T10:50:41.174142",
     "exception": false,
     "start_time": "2022-09-02T10:50:41.151012",
     "status": "completed"
    },
    "tags": []
   },
   "source": [
    "## Pemodelan"
   ]
  },
  {
   "cell_type": "code",
   "execution_count": 20,
   "id": "cb8536a5",
   "metadata": {
    "execution": {
     "iopub.execute_input": "2022-09-02T10:50:41.223361Z",
     "iopub.status.busy": "2022-09-02T10:50:41.222734Z",
     "iopub.status.idle": "2022-09-02T10:50:41.236942Z",
     "shell.execute_reply": "2022-09-02T10:50:41.236008Z"
    },
    "papermill": {
     "duration": 0.041353,
     "end_time": "2022-09-02T10:50:41.239102",
     "exception": false,
     "start_time": "2022-09-02T10:50:41.197749",
     "status": "completed"
    },
    "tags": []
   },
   "outputs": [
    {
     "data": {
      "text/html": [
       "<div>\n",
       "<style scoped>\n",
       "    .dataframe tbody tr th:only-of-type {\n",
       "        vertical-align: middle;\n",
       "    }\n",
       "\n",
       "    .dataframe tbody tr th {\n",
       "        vertical-align: top;\n",
       "    }\n",
       "\n",
       "    .dataframe thead th {\n",
       "        text-align: right;\n",
       "    }\n",
       "</style>\n",
       "<table border=\"1\" class=\"dataframe\">\n",
       "  <thead>\n",
       "    <tr style=\"text-align: right;\">\n",
       "      <th></th>\n",
       "      <th>age</th>\n",
       "      <th>sex</th>\n",
       "      <th>cp</th>\n",
       "      <th>trestbps</th>\n",
       "      <th>chol</th>\n",
       "      <th>fbs</th>\n",
       "      <th>restecg</th>\n",
       "      <th>thalach</th>\n",
       "      <th>exang</th>\n",
       "      <th>oldpeak</th>\n",
       "      <th>slope</th>\n",
       "      <th>ca</th>\n",
       "      <th>thal</th>\n",
       "      <th>target</th>\n",
       "    </tr>\n",
       "  </thead>\n",
       "  <tbody>\n",
       "    <tr>\n",
       "      <th>0</th>\n",
       "      <td>63</td>\n",
       "      <td>1</td>\n",
       "      <td>3</td>\n",
       "      <td>145</td>\n",
       "      <td>233</td>\n",
       "      <td>1</td>\n",
       "      <td>0</td>\n",
       "      <td>150</td>\n",
       "      <td>0</td>\n",
       "      <td>2.3</td>\n",
       "      <td>0</td>\n",
       "      <td>0</td>\n",
       "      <td>1</td>\n",
       "      <td>1</td>\n",
       "    </tr>\n",
       "    <tr>\n",
       "      <th>1</th>\n",
       "      <td>37</td>\n",
       "      <td>1</td>\n",
       "      <td>2</td>\n",
       "      <td>130</td>\n",
       "      <td>250</td>\n",
       "      <td>0</td>\n",
       "      <td>1</td>\n",
       "      <td>187</td>\n",
       "      <td>0</td>\n",
       "      <td>3.5</td>\n",
       "      <td>0</td>\n",
       "      <td>0</td>\n",
       "      <td>2</td>\n",
       "      <td>1</td>\n",
       "    </tr>\n",
       "    <tr>\n",
       "      <th>2</th>\n",
       "      <td>41</td>\n",
       "      <td>0</td>\n",
       "      <td>1</td>\n",
       "      <td>130</td>\n",
       "      <td>204</td>\n",
       "      <td>0</td>\n",
       "      <td>0</td>\n",
       "      <td>172</td>\n",
       "      <td>0</td>\n",
       "      <td>1.4</td>\n",
       "      <td>2</td>\n",
       "      <td>0</td>\n",
       "      <td>2</td>\n",
       "      <td>1</td>\n",
       "    </tr>\n",
       "    <tr>\n",
       "      <th>3</th>\n",
       "      <td>56</td>\n",
       "      <td>1</td>\n",
       "      <td>1</td>\n",
       "      <td>120</td>\n",
       "      <td>236</td>\n",
       "      <td>0</td>\n",
       "      <td>1</td>\n",
       "      <td>178</td>\n",
       "      <td>0</td>\n",
       "      <td>0.8</td>\n",
       "      <td>2</td>\n",
       "      <td>0</td>\n",
       "      <td>2</td>\n",
       "      <td>1</td>\n",
       "    </tr>\n",
       "    <tr>\n",
       "      <th>4</th>\n",
       "      <td>57</td>\n",
       "      <td>0</td>\n",
       "      <td>0</td>\n",
       "      <td>120</td>\n",
       "      <td>354</td>\n",
       "      <td>0</td>\n",
       "      <td>1</td>\n",
       "      <td>163</td>\n",
       "      <td>1</td>\n",
       "      <td>0.6</td>\n",
       "      <td>2</td>\n",
       "      <td>0</td>\n",
       "      <td>2</td>\n",
       "      <td>1</td>\n",
       "    </tr>\n",
       "  </tbody>\n",
       "</table>\n",
       "</div>"
      ],
      "text/plain": [
       "   age  sex  cp  trestbps  chol  fbs  restecg  thalach  exang  oldpeak  slope  \\\n",
       "0   63    1   3       145   233    1        0      150      0      2.3      0   \n",
       "1   37    1   2       130   250    0        1      187      0      3.5      0   \n",
       "2   41    0   1       130   204    0        0      172      0      1.4      2   \n",
       "3   56    1   1       120   236    0        1      178      0      0.8      2   \n",
       "4   57    0   0       120   354    0        1      163      1      0.6      2   \n",
       "\n",
       "   ca  thal  target  \n",
       "0   0     1       1  \n",
       "1   0     2       1  \n",
       "2   0     2       1  \n",
       "3   0     2       1  \n",
       "4   0     2       1  "
      ]
     },
     "execution_count": 20,
     "metadata": {},
     "output_type": "execute_result"
    }
   ],
   "source": [
    "df.head()"
   ]
  },
  {
   "cell_type": "code",
   "execution_count": 21,
   "id": "a5d418bf",
   "metadata": {
    "execution": {
     "iopub.execute_input": "2022-09-02T10:50:41.289161Z",
     "iopub.status.busy": "2022-09-02T10:50:41.288452Z",
     "iopub.status.idle": "2022-09-02T10:50:41.303784Z",
     "shell.execute_reply": "2022-09-02T10:50:41.302769Z"
    },
    "papermill": {
     "duration": 0.043106,
     "end_time": "2022-09-02T10:50:41.306077",
     "exception": false,
     "start_time": "2022-09-02T10:50:41.262971",
     "status": "completed"
    },
    "tags": []
   },
   "outputs": [
    {
     "data": {
      "text/html": [
       "<div>\n",
       "<style scoped>\n",
       "    .dataframe tbody tr th:only-of-type {\n",
       "        vertical-align: middle;\n",
       "    }\n",
       "\n",
       "    .dataframe tbody tr th {\n",
       "        vertical-align: top;\n",
       "    }\n",
       "\n",
       "    .dataframe thead th {\n",
       "        text-align: right;\n",
       "    }\n",
       "</style>\n",
       "<table border=\"1\" class=\"dataframe\">\n",
       "  <thead>\n",
       "    <tr style=\"text-align: right;\">\n",
       "      <th></th>\n",
       "      <th>age</th>\n",
       "      <th>sex</th>\n",
       "      <th>cp</th>\n",
       "      <th>trestbps</th>\n",
       "      <th>chol</th>\n",
       "      <th>fbs</th>\n",
       "      <th>restecg</th>\n",
       "      <th>thalach</th>\n",
       "      <th>exang</th>\n",
       "      <th>oldpeak</th>\n",
       "      <th>slope</th>\n",
       "      <th>ca</th>\n",
       "      <th>thal</th>\n",
       "    </tr>\n",
       "  </thead>\n",
       "  <tbody>\n",
       "    <tr>\n",
       "      <th>0</th>\n",
       "      <td>63</td>\n",
       "      <td>1</td>\n",
       "      <td>3</td>\n",
       "      <td>145</td>\n",
       "      <td>233</td>\n",
       "      <td>1</td>\n",
       "      <td>0</td>\n",
       "      <td>150</td>\n",
       "      <td>0</td>\n",
       "      <td>2.3</td>\n",
       "      <td>0</td>\n",
       "      <td>0</td>\n",
       "      <td>1</td>\n",
       "    </tr>\n",
       "    <tr>\n",
       "      <th>1</th>\n",
       "      <td>37</td>\n",
       "      <td>1</td>\n",
       "      <td>2</td>\n",
       "      <td>130</td>\n",
       "      <td>250</td>\n",
       "      <td>0</td>\n",
       "      <td>1</td>\n",
       "      <td>187</td>\n",
       "      <td>0</td>\n",
       "      <td>3.5</td>\n",
       "      <td>0</td>\n",
       "      <td>0</td>\n",
       "      <td>2</td>\n",
       "    </tr>\n",
       "    <tr>\n",
       "      <th>2</th>\n",
       "      <td>41</td>\n",
       "      <td>0</td>\n",
       "      <td>1</td>\n",
       "      <td>130</td>\n",
       "      <td>204</td>\n",
       "      <td>0</td>\n",
       "      <td>0</td>\n",
       "      <td>172</td>\n",
       "      <td>0</td>\n",
       "      <td>1.4</td>\n",
       "      <td>2</td>\n",
       "      <td>0</td>\n",
       "      <td>2</td>\n",
       "    </tr>\n",
       "    <tr>\n",
       "      <th>3</th>\n",
       "      <td>56</td>\n",
       "      <td>1</td>\n",
       "      <td>1</td>\n",
       "      <td>120</td>\n",
       "      <td>236</td>\n",
       "      <td>0</td>\n",
       "      <td>1</td>\n",
       "      <td>178</td>\n",
       "      <td>0</td>\n",
       "      <td>0.8</td>\n",
       "      <td>2</td>\n",
       "      <td>0</td>\n",
       "      <td>2</td>\n",
       "    </tr>\n",
       "    <tr>\n",
       "      <th>4</th>\n",
       "      <td>57</td>\n",
       "      <td>0</td>\n",
       "      <td>0</td>\n",
       "      <td>120</td>\n",
       "      <td>354</td>\n",
       "      <td>0</td>\n",
       "      <td>1</td>\n",
       "      <td>163</td>\n",
       "      <td>1</td>\n",
       "      <td>0.6</td>\n",
       "      <td>2</td>\n",
       "      <td>0</td>\n",
       "      <td>2</td>\n",
       "    </tr>\n",
       "  </tbody>\n",
       "</table>\n",
       "</div>"
      ],
      "text/plain": [
       "   age  sex  cp  trestbps  chol  fbs  restecg  thalach  exang  oldpeak  slope  \\\n",
       "0   63    1   3       145   233    1        0      150      0      2.3      0   \n",
       "1   37    1   2       130   250    0        1      187      0      3.5      0   \n",
       "2   41    0   1       130   204    0        0      172      0      1.4      2   \n",
       "3   56    1   1       120   236    0        1      178      0      0.8      2   \n",
       "4   57    0   0       120   354    0        1      163      1      0.6      2   \n",
       "\n",
       "   ca  thal  \n",
       "0   0     1  \n",
       "1   0     2  \n",
       "2   0     2  \n",
       "3   0     2  \n",
       "4   0     2  "
      ]
     },
     "execution_count": 21,
     "metadata": {},
     "output_type": "execute_result"
    }
   ],
   "source": [
    "# Variabel bebas\n",
    "X = df.drop(\"target\", axis=1)\n",
    "X.head()"
   ]
  },
  {
   "cell_type": "code",
   "execution_count": 22,
   "id": "153008cc",
   "metadata": {
    "execution": {
     "iopub.execute_input": "2022-09-02T10:50:41.356433Z",
     "iopub.status.busy": "2022-09-02T10:50:41.355823Z",
     "iopub.status.idle": "2022-09-02T10:50:41.362526Z",
     "shell.execute_reply": "2022-09-02T10:50:41.361689Z"
    },
    "papermill": {
     "duration": 0.034364,
     "end_time": "2022-09-02T10:50:41.364520",
     "exception": false,
     "start_time": "2022-09-02T10:50:41.330156",
     "status": "completed"
    },
    "tags": []
   },
   "outputs": [
    {
     "data": {
      "text/plain": [
       "array([1, 1, 1, 1, 1, 1, 1, 1, 1, 1, 1, 1, 1, 1, 1, 1, 1, 1, 1, 1, 1, 1,\n",
       "       1, 1, 1, 1, 1, 1, 1, 1, 1, 1, 1, 1, 1, 1, 1, 1, 1, 1, 1, 1, 1, 1,\n",
       "       1, 1, 1, 1, 1, 1, 1, 1, 1, 1, 1, 1, 1, 1, 1, 1, 1, 1, 1, 1, 1, 1,\n",
       "       1, 1, 1, 1, 1, 1, 1, 1, 1, 1, 1, 1, 1, 1, 1, 1, 1, 1, 1, 1, 1, 1,\n",
       "       1, 1, 1, 1, 1, 1, 1, 1, 1, 1, 1, 1, 1, 1, 1, 1, 1, 1, 1, 1, 1, 1,\n",
       "       1, 1, 1, 1, 1, 1, 1, 1, 1, 1, 1, 1, 1, 1, 1, 1, 1, 1, 1, 1, 1, 1,\n",
       "       1, 1, 1, 1, 1, 1, 1, 1, 1, 1, 1, 1, 1, 1, 1, 1, 1, 1, 1, 1, 1, 1,\n",
       "       1, 1, 1, 1, 1, 1, 1, 1, 1, 1, 1, 0, 0, 0, 0, 0, 0, 0, 0, 0, 0, 0,\n",
       "       0, 0, 0, 0, 0, 0, 0, 0, 0, 0, 0, 0, 0, 0, 0, 0, 0, 0, 0, 0, 0, 0,\n",
       "       0, 0, 0, 0, 0, 0, 0, 0, 0, 0, 0, 0, 0, 0, 0, 0, 0, 0, 0, 0, 0, 0,\n",
       "       0, 0, 0, 0, 0, 0, 0, 0, 0, 0, 0, 0, 0, 0, 0, 0, 0, 0, 0, 0, 0, 0,\n",
       "       0, 0, 0, 0, 0, 0, 0, 0, 0, 0, 0, 0, 0, 0, 0, 0, 0, 0, 0, 0, 0, 0,\n",
       "       0, 0, 0, 0, 0, 0, 0, 0, 0, 0, 0, 0, 0, 0, 0, 0, 0, 0, 0, 0, 0, 0,\n",
       "       0, 0, 0, 0, 0, 0, 0, 0, 0, 0, 0, 0, 0, 0, 0, 0, 0])"
      ]
     },
     "execution_count": 22,
     "metadata": {},
     "output_type": "execute_result"
    }
   ],
   "source": [
    "# Variabel terikat\n",
    "y = df.target.values\n",
    "y"
   ]
  },
  {
   "cell_type": "markdown",
   "id": "caa8ee47",
   "metadata": {
    "papermill": {
     "duration": 0.024129,
     "end_time": "2022-09-02T10:50:41.413083",
     "exception": false,
     "start_time": "2022-09-02T10:50:41.388954",
     "status": "completed"
    },
    "tags": []
   },
   "source": [
    "## Split Data"
   ]
  },
  {
   "cell_type": "code",
   "execution_count": 23,
   "id": "4fb1315c",
   "metadata": {
    "execution": {
     "iopub.execute_input": "2022-09-02T10:50:41.463090Z",
     "iopub.status.busy": "2022-09-02T10:50:41.462377Z",
     "iopub.status.idle": "2022-09-02T10:50:41.466685Z",
     "shell.execute_reply": "2022-09-02T10:50:41.465873Z"
    },
    "papermill": {
     "duration": 0.031764,
     "end_time": "2022-09-02T10:50:41.468758",
     "exception": false,
     "start_time": "2022-09-02T10:50:41.436994",
     "status": "completed"
    },
    "tags": []
   },
   "outputs": [],
   "source": [
    "np.random.seed(8)"
   ]
  },
  {
   "cell_type": "markdown",
   "id": "9902aa84",
   "metadata": {
    "papermill": {
     "duration": 0.024204,
     "end_time": "2022-09-02T10:50:41.517123",
     "exception": false,
     "start_time": "2022-09-02T10:50:41.492919",
     "status": "completed"
    },
    "tags": []
   },
   "source": [
    "Fungsi seed digunakan untuk menyimpan status fungsi random, sehingga dapat menghasilkan angka acak yang sama pada beberapa eksekusi kode pada mesin yang sama atau pada mesin yang berbeda (untuk nilai seed tertentu). Nilai seed adalah angka nilai sebelumnya yang dihasilkan oleh generator. Untuk pertama kalinya ketika tidak ada nilai sebelumnya, ia menggunakan waktu sistem saat ini."
   ]
  },
  {
   "cell_type": "code",
   "execution_count": 24,
   "id": "ae46b6c9",
   "metadata": {
    "execution": {
     "iopub.execute_input": "2022-09-02T10:50:41.567616Z",
     "iopub.status.busy": "2022-09-02T10:50:41.567018Z",
     "iopub.status.idle": "2022-09-02T10:50:41.572679Z",
     "shell.execute_reply": "2022-09-02T10:50:41.571364Z"
    },
    "papermill": {
     "duration": 0.034822,
     "end_time": "2022-09-02T10:50:41.575901",
     "exception": false,
     "start_time": "2022-09-02T10:50:41.541079",
     "status": "completed"
    },
    "tags": []
   },
   "outputs": [
    {
     "name": "stdout",
     "output_type": "stream",
     "text": [
      "452\n",
      "452\n",
      "452\n",
      "452\n",
      "452\n"
     ]
    }
   ],
   "source": [
    "for i in range(5):\n",
    "    np.random.seed(8)\n",
    "    print(np.random.randint(1, 1000))"
   ]
  },
  {
   "cell_type": "code",
   "execution_count": 25,
   "id": "6f3a19ab",
   "metadata": {
    "execution": {
     "iopub.execute_input": "2022-09-02T10:50:41.627150Z",
     "iopub.status.busy": "2022-09-02T10:50:41.626701Z",
     "iopub.status.idle": "2022-09-02T10:50:41.633158Z",
     "shell.execute_reply": "2022-09-02T10:50:41.632000Z"
    },
    "papermill": {
     "duration": 0.034748,
     "end_time": "2022-09-02T10:50:41.635520",
     "exception": false,
     "start_time": "2022-09-02T10:50:41.600772",
     "status": "completed"
    },
    "tags": []
   },
   "outputs": [],
   "source": [
    "## Split data train dan test\n",
    "X_train, X_test, y_train, y_test = train_test_split(X, y, test_size = 0.2)"
   ]
  },
  {
   "cell_type": "code",
   "execution_count": 26,
   "id": "efd870a1",
   "metadata": {
    "execution": {
     "iopub.execute_input": "2022-09-02T10:50:41.686374Z",
     "iopub.status.busy": "2022-09-02T10:50:41.685670Z",
     "iopub.status.idle": "2022-09-02T10:50:41.705282Z",
     "shell.execute_reply": "2022-09-02T10:50:41.704176Z"
    },
    "papermill": {
     "duration": 0.04766,
     "end_time": "2022-09-02T10:50:41.707717",
     "exception": false,
     "start_time": "2022-09-02T10:50:41.660057",
     "status": "completed"
    },
    "tags": []
   },
   "outputs": [
    {
     "data": {
      "text/html": [
       "<div>\n",
       "<style scoped>\n",
       "    .dataframe tbody tr th:only-of-type {\n",
       "        vertical-align: middle;\n",
       "    }\n",
       "\n",
       "    .dataframe tbody tr th {\n",
       "        vertical-align: top;\n",
       "    }\n",
       "\n",
       "    .dataframe thead th {\n",
       "        text-align: right;\n",
       "    }\n",
       "</style>\n",
       "<table border=\"1\" class=\"dataframe\">\n",
       "  <thead>\n",
       "    <tr style=\"text-align: right;\">\n",
       "      <th></th>\n",
       "      <th>age</th>\n",
       "      <th>sex</th>\n",
       "      <th>cp</th>\n",
       "      <th>trestbps</th>\n",
       "      <th>chol</th>\n",
       "      <th>fbs</th>\n",
       "      <th>restecg</th>\n",
       "      <th>thalach</th>\n",
       "      <th>exang</th>\n",
       "      <th>oldpeak</th>\n",
       "      <th>slope</th>\n",
       "      <th>ca</th>\n",
       "      <th>thal</th>\n",
       "    </tr>\n",
       "  </thead>\n",
       "  <tbody>\n",
       "    <tr>\n",
       "      <th>202</th>\n",
       "      <td>58</td>\n",
       "      <td>1</td>\n",
       "      <td>0</td>\n",
       "      <td>150</td>\n",
       "      <td>270</td>\n",
       "      <td>0</td>\n",
       "      <td>0</td>\n",
       "      <td>111</td>\n",
       "      <td>1</td>\n",
       "      <td>0.8</td>\n",
       "      <td>2</td>\n",
       "      <td>0</td>\n",
       "      <td>3</td>\n",
       "    </tr>\n",
       "    <tr>\n",
       "      <th>111</th>\n",
       "      <td>57</td>\n",
       "      <td>1</td>\n",
       "      <td>2</td>\n",
       "      <td>150</td>\n",
       "      <td>126</td>\n",
       "      <td>1</td>\n",
       "      <td>1</td>\n",
       "      <td>173</td>\n",
       "      <td>0</td>\n",
       "      <td>0.2</td>\n",
       "      <td>2</td>\n",
       "      <td>1</td>\n",
       "      <td>3</td>\n",
       "    </tr>\n",
       "    <tr>\n",
       "      <th>37</th>\n",
       "      <td>54</td>\n",
       "      <td>1</td>\n",
       "      <td>2</td>\n",
       "      <td>150</td>\n",
       "      <td>232</td>\n",
       "      <td>0</td>\n",
       "      <td>0</td>\n",
       "      <td>165</td>\n",
       "      <td>0</td>\n",
       "      <td>1.6</td>\n",
       "      <td>2</td>\n",
       "      <td>0</td>\n",
       "      <td>3</td>\n",
       "    </tr>\n",
       "    <tr>\n",
       "      <th>137</th>\n",
       "      <td>62</td>\n",
       "      <td>1</td>\n",
       "      <td>1</td>\n",
       "      <td>128</td>\n",
       "      <td>208</td>\n",
       "      <td>1</td>\n",
       "      <td>0</td>\n",
       "      <td>140</td>\n",
       "      <td>0</td>\n",
       "      <td>0.0</td>\n",
       "      <td>2</td>\n",
       "      <td>0</td>\n",
       "      <td>2</td>\n",
       "    </tr>\n",
       "    <tr>\n",
       "      <th>231</th>\n",
       "      <td>57</td>\n",
       "      <td>1</td>\n",
       "      <td>0</td>\n",
       "      <td>165</td>\n",
       "      <td>289</td>\n",
       "      <td>1</td>\n",
       "      <td>0</td>\n",
       "      <td>124</td>\n",
       "      <td>0</td>\n",
       "      <td>1.0</td>\n",
       "      <td>1</td>\n",
       "      <td>3</td>\n",
       "      <td>3</td>\n",
       "    </tr>\n",
       "    <tr>\n",
       "      <th>...</th>\n",
       "      <td>...</td>\n",
       "      <td>...</td>\n",
       "      <td>...</td>\n",
       "      <td>...</td>\n",
       "      <td>...</td>\n",
       "      <td>...</td>\n",
       "      <td>...</td>\n",
       "      <td>...</td>\n",
       "      <td>...</td>\n",
       "      <td>...</td>\n",
       "      <td>...</td>\n",
       "      <td>...</td>\n",
       "      <td>...</td>\n",
       "    </tr>\n",
       "    <tr>\n",
       "      <th>85</th>\n",
       "      <td>67</td>\n",
       "      <td>0</td>\n",
       "      <td>2</td>\n",
       "      <td>115</td>\n",
       "      <td>564</td>\n",
       "      <td>0</td>\n",
       "      <td>0</td>\n",
       "      <td>160</td>\n",
       "      <td>0</td>\n",
       "      <td>1.6</td>\n",
       "      <td>1</td>\n",
       "      <td>0</td>\n",
       "      <td>3</td>\n",
       "    </tr>\n",
       "    <tr>\n",
       "      <th>48</th>\n",
       "      <td>53</td>\n",
       "      <td>0</td>\n",
       "      <td>2</td>\n",
       "      <td>128</td>\n",
       "      <td>216</td>\n",
       "      <td>0</td>\n",
       "      <td>0</td>\n",
       "      <td>115</td>\n",
       "      <td>0</td>\n",
       "      <td>0.0</td>\n",
       "      <td>2</td>\n",
       "      <td>0</td>\n",
       "      <td>0</td>\n",
       "    </tr>\n",
       "    <tr>\n",
       "      <th>191</th>\n",
       "      <td>58</td>\n",
       "      <td>1</td>\n",
       "      <td>0</td>\n",
       "      <td>128</td>\n",
       "      <td>216</td>\n",
       "      <td>0</td>\n",
       "      <td>0</td>\n",
       "      <td>131</td>\n",
       "      <td>1</td>\n",
       "      <td>2.2</td>\n",
       "      <td>1</td>\n",
       "      <td>3</td>\n",
       "      <td>3</td>\n",
       "    </tr>\n",
       "    <tr>\n",
       "      <th>136</th>\n",
       "      <td>60</td>\n",
       "      <td>0</td>\n",
       "      <td>2</td>\n",
       "      <td>120</td>\n",
       "      <td>178</td>\n",
       "      <td>1</td>\n",
       "      <td>1</td>\n",
       "      <td>96</td>\n",
       "      <td>0</td>\n",
       "      <td>0.0</td>\n",
       "      <td>2</td>\n",
       "      <td>0</td>\n",
       "      <td>2</td>\n",
       "    </tr>\n",
       "    <tr>\n",
       "      <th>133</th>\n",
       "      <td>41</td>\n",
       "      <td>1</td>\n",
       "      <td>1</td>\n",
       "      <td>110</td>\n",
       "      <td>235</td>\n",
       "      <td>0</td>\n",
       "      <td>1</td>\n",
       "      <td>153</td>\n",
       "      <td>0</td>\n",
       "      <td>0.0</td>\n",
       "      <td>2</td>\n",
       "      <td>0</td>\n",
       "      <td>2</td>\n",
       "    </tr>\n",
       "  </tbody>\n",
       "</table>\n",
       "<p>242 rows × 13 columns</p>\n",
       "</div>"
      ],
      "text/plain": [
       "     age  sex  cp  trestbps  chol  fbs  restecg  thalach  exang  oldpeak  \\\n",
       "202   58    1   0       150   270    0        0      111      1      0.8   \n",
       "111   57    1   2       150   126    1        1      173      0      0.2   \n",
       "37    54    1   2       150   232    0        0      165      0      1.6   \n",
       "137   62    1   1       128   208    1        0      140      0      0.0   \n",
       "231   57    1   0       165   289    1        0      124      0      1.0   \n",
       "..   ...  ...  ..       ...   ...  ...      ...      ...    ...      ...   \n",
       "85    67    0   2       115   564    0        0      160      0      1.6   \n",
       "48    53    0   2       128   216    0        0      115      0      0.0   \n",
       "191   58    1   0       128   216    0        0      131      1      2.2   \n",
       "136   60    0   2       120   178    1        1       96      0      0.0   \n",
       "133   41    1   1       110   235    0        1      153      0      0.0   \n",
       "\n",
       "     slope  ca  thal  \n",
       "202      2   0     3  \n",
       "111      2   1     3  \n",
       "37       2   0     3  \n",
       "137      2   0     2  \n",
       "231      1   3     3  \n",
       "..     ...  ..   ...  \n",
       "85       1   0     3  \n",
       "48       2   0     0  \n",
       "191      1   3     3  \n",
       "136      2   0     2  \n",
       "133      2   0     2  \n",
       "\n",
       "[242 rows x 13 columns]"
      ]
     },
     "execution_count": 26,
     "metadata": {},
     "output_type": "execute_result"
    }
   ],
   "source": [
    "X_train"
   ]
  },
  {
   "cell_type": "code",
   "execution_count": 27,
   "id": "b53e891b",
   "metadata": {
    "execution": {
     "iopub.execute_input": "2022-09-02T10:50:41.759707Z",
     "iopub.status.busy": "2022-09-02T10:50:41.758991Z",
     "iopub.status.idle": "2022-09-02T10:50:41.777739Z",
     "shell.execute_reply": "2022-09-02T10:50:41.776600Z"
    },
    "papermill": {
     "duration": 0.047158,
     "end_time": "2022-09-02T10:50:41.780173",
     "exception": false,
     "start_time": "2022-09-02T10:50:41.733015",
     "status": "completed"
    },
    "tags": []
   },
   "outputs": [
    {
     "data": {
      "text/html": [
       "<div>\n",
       "<style scoped>\n",
       "    .dataframe tbody tr th:only-of-type {\n",
       "        vertical-align: middle;\n",
       "    }\n",
       "\n",
       "    .dataframe tbody tr th {\n",
       "        vertical-align: top;\n",
       "    }\n",
       "\n",
       "    .dataframe thead th {\n",
       "        text-align: right;\n",
       "    }\n",
       "</style>\n",
       "<table border=\"1\" class=\"dataframe\">\n",
       "  <thead>\n",
       "    <tr style=\"text-align: right;\">\n",
       "      <th></th>\n",
       "      <th>age</th>\n",
       "      <th>sex</th>\n",
       "      <th>cp</th>\n",
       "      <th>trestbps</th>\n",
       "      <th>chol</th>\n",
       "      <th>fbs</th>\n",
       "      <th>restecg</th>\n",
       "      <th>thalach</th>\n",
       "      <th>exang</th>\n",
       "      <th>oldpeak</th>\n",
       "      <th>slope</th>\n",
       "      <th>ca</th>\n",
       "      <th>thal</th>\n",
       "    </tr>\n",
       "  </thead>\n",
       "  <tbody>\n",
       "    <tr>\n",
       "      <th>141</th>\n",
       "      <td>43</td>\n",
       "      <td>1</td>\n",
       "      <td>0</td>\n",
       "      <td>115</td>\n",
       "      <td>303</td>\n",
       "      <td>0</td>\n",
       "      <td>1</td>\n",
       "      <td>181</td>\n",
       "      <td>0</td>\n",
       "      <td>1.2</td>\n",
       "      <td>1</td>\n",
       "      <td>0</td>\n",
       "      <td>2</td>\n",
       "    </tr>\n",
       "    <tr>\n",
       "      <th>222</th>\n",
       "      <td>65</td>\n",
       "      <td>1</td>\n",
       "      <td>3</td>\n",
       "      <td>138</td>\n",
       "      <td>282</td>\n",
       "      <td>1</td>\n",
       "      <td>0</td>\n",
       "      <td>174</td>\n",
       "      <td>0</td>\n",
       "      <td>1.4</td>\n",
       "      <td>1</td>\n",
       "      <td>1</td>\n",
       "      <td>2</td>\n",
       "    </tr>\n",
       "    <tr>\n",
       "      <th>135</th>\n",
       "      <td>49</td>\n",
       "      <td>0</td>\n",
       "      <td>0</td>\n",
       "      <td>130</td>\n",
       "      <td>269</td>\n",
       "      <td>0</td>\n",
       "      <td>1</td>\n",
       "      <td>163</td>\n",
       "      <td>0</td>\n",
       "      <td>0.0</td>\n",
       "      <td>2</td>\n",
       "      <td>0</td>\n",
       "      <td>2</td>\n",
       "    </tr>\n",
       "    <tr>\n",
       "      <th>139</th>\n",
       "      <td>64</td>\n",
       "      <td>1</td>\n",
       "      <td>0</td>\n",
       "      <td>128</td>\n",
       "      <td>263</td>\n",
       "      <td>0</td>\n",
       "      <td>1</td>\n",
       "      <td>105</td>\n",
       "      <td>1</td>\n",
       "      <td>0.2</td>\n",
       "      <td>1</td>\n",
       "      <td>1</td>\n",
       "      <td>3</td>\n",
       "    </tr>\n",
       "    <tr>\n",
       "      <th>175</th>\n",
       "      <td>40</td>\n",
       "      <td>1</td>\n",
       "      <td>0</td>\n",
       "      <td>110</td>\n",
       "      <td>167</td>\n",
       "      <td>0</td>\n",
       "      <td>0</td>\n",
       "      <td>114</td>\n",
       "      <td>1</td>\n",
       "      <td>2.0</td>\n",
       "      <td>1</td>\n",
       "      <td>0</td>\n",
       "      <td>3</td>\n",
       "    </tr>\n",
       "    <tr>\n",
       "      <th>...</th>\n",
       "      <td>...</td>\n",
       "      <td>...</td>\n",
       "      <td>...</td>\n",
       "      <td>...</td>\n",
       "      <td>...</td>\n",
       "      <td>...</td>\n",
       "      <td>...</td>\n",
       "      <td>...</td>\n",
       "      <td>...</td>\n",
       "      <td>...</td>\n",
       "      <td>...</td>\n",
       "      <td>...</td>\n",
       "      <td>...</td>\n",
       "    </tr>\n",
       "    <tr>\n",
       "      <th>96</th>\n",
       "      <td>62</td>\n",
       "      <td>0</td>\n",
       "      <td>0</td>\n",
       "      <td>140</td>\n",
       "      <td>394</td>\n",
       "      <td>0</td>\n",
       "      <td>0</td>\n",
       "      <td>157</td>\n",
       "      <td>0</td>\n",
       "      <td>1.2</td>\n",
       "      <td>1</td>\n",
       "      <td>0</td>\n",
       "      <td>2</td>\n",
       "    </tr>\n",
       "    <tr>\n",
       "      <th>151</th>\n",
       "      <td>71</td>\n",
       "      <td>0</td>\n",
       "      <td>0</td>\n",
       "      <td>112</td>\n",
       "      <td>149</td>\n",
       "      <td>0</td>\n",
       "      <td>1</td>\n",
       "      <td>125</td>\n",
       "      <td>0</td>\n",
       "      <td>1.6</td>\n",
       "      <td>1</td>\n",
       "      <td>0</td>\n",
       "      <td>2</td>\n",
       "    </tr>\n",
       "    <tr>\n",
       "      <th>262</th>\n",
       "      <td>53</td>\n",
       "      <td>1</td>\n",
       "      <td>0</td>\n",
       "      <td>123</td>\n",
       "      <td>282</td>\n",
       "      <td>0</td>\n",
       "      <td>1</td>\n",
       "      <td>95</td>\n",
       "      <td>1</td>\n",
       "      <td>2.0</td>\n",
       "      <td>1</td>\n",
       "      <td>2</td>\n",
       "      <td>3</td>\n",
       "    </tr>\n",
       "    <tr>\n",
       "      <th>110</th>\n",
       "      <td>64</td>\n",
       "      <td>0</td>\n",
       "      <td>0</td>\n",
       "      <td>180</td>\n",
       "      <td>325</td>\n",
       "      <td>0</td>\n",
       "      <td>1</td>\n",
       "      <td>154</td>\n",
       "      <td>1</td>\n",
       "      <td>0.0</td>\n",
       "      <td>2</td>\n",
       "      <td>0</td>\n",
       "      <td>2</td>\n",
       "    </tr>\n",
       "    <tr>\n",
       "      <th>100</th>\n",
       "      <td>42</td>\n",
       "      <td>1</td>\n",
       "      <td>3</td>\n",
       "      <td>148</td>\n",
       "      <td>244</td>\n",
       "      <td>0</td>\n",
       "      <td>0</td>\n",
       "      <td>178</td>\n",
       "      <td>0</td>\n",
       "      <td>0.8</td>\n",
       "      <td>2</td>\n",
       "      <td>2</td>\n",
       "      <td>2</td>\n",
       "    </tr>\n",
       "  </tbody>\n",
       "</table>\n",
       "<p>61 rows × 13 columns</p>\n",
       "</div>"
      ],
      "text/plain": [
       "     age  sex  cp  trestbps  chol  fbs  restecg  thalach  exang  oldpeak  \\\n",
       "141   43    1   0       115   303    0        1      181      0      1.2   \n",
       "222   65    1   3       138   282    1        0      174      0      1.4   \n",
       "135   49    0   0       130   269    0        1      163      0      0.0   \n",
       "139   64    1   0       128   263    0        1      105      1      0.2   \n",
       "175   40    1   0       110   167    0        0      114      1      2.0   \n",
       "..   ...  ...  ..       ...   ...  ...      ...      ...    ...      ...   \n",
       "96    62    0   0       140   394    0        0      157      0      1.2   \n",
       "151   71    0   0       112   149    0        1      125      0      1.6   \n",
       "262   53    1   0       123   282    0        1       95      1      2.0   \n",
       "110   64    0   0       180   325    0        1      154      1      0.0   \n",
       "100   42    1   3       148   244    0        0      178      0      0.8   \n",
       "\n",
       "     slope  ca  thal  \n",
       "141      1   0     2  \n",
       "222      1   1     2  \n",
       "135      2   0     2  \n",
       "139      1   1     3  \n",
       "175      1   0     3  \n",
       "..     ...  ..   ...  \n",
       "96       1   0     2  \n",
       "151      1   0     2  \n",
       "262      1   2     3  \n",
       "110      2   0     2  \n",
       "100      2   2     2  \n",
       "\n",
       "[61 rows x 13 columns]"
      ]
     },
     "execution_count": 27,
     "metadata": {},
     "output_type": "execute_result"
    }
   ],
   "source": [
    "X_test"
   ]
  },
  {
   "cell_type": "code",
   "execution_count": 28,
   "id": "46cc4ac8",
   "metadata": {
    "execution": {
     "iopub.execute_input": "2022-09-02T10:50:41.832778Z",
     "iopub.status.busy": "2022-09-02T10:50:41.832382Z",
     "iopub.status.idle": "2022-09-02T10:50:41.839961Z",
     "shell.execute_reply": "2022-09-02T10:50:41.838563Z"
    },
    "papermill": {
     "duration": 0.036186,
     "end_time": "2022-09-02T10:50:41.842102",
     "exception": false,
     "start_time": "2022-09-02T10:50:41.805916",
     "status": "completed"
    },
    "tags": []
   },
   "outputs": [
    {
     "data": {
      "text/plain": [
       "(array([0, 1, 1, 1, 0, 0, 1, 1, 1, 0, 0, 1, 0, 1, 0, 1, 0, 1, 0, 0, 1, 0,\n",
       "        0, 1, 1, 0, 1, 0, 0, 0, 1, 1, 1, 0, 1, 1, 1, 1, 0, 0, 1, 1, 0, 1,\n",
       "        0, 0, 0, 1, 0, 0, 0, 0, 1, 0, 1, 1, 0, 1, 0, 0, 0, 0, 0, 1, 0, 0,\n",
       "        0, 1, 1, 0, 1, 1, 1, 1, 0, 0, 1, 1, 0, 1, 1, 0, 0, 0, 0, 0, 1, 0,\n",
       "        0, 0, 0, 0, 0, 0, 1, 1, 0, 0, 0, 1, 1, 1, 1, 0, 0, 1, 1, 0, 0, 1,\n",
       "        0, 0, 1, 0, 1, 0, 0, 1, 1, 0, 0, 1, 1, 1, 1, 0, 0, 1, 1, 1, 0, 0,\n",
       "        0, 0, 0, 1, 1, 1, 1, 0, 1, 0, 1, 1, 1, 1, 0, 0, 0, 0, 1, 1, 1, 0,\n",
       "        0, 1, 0, 1, 1, 1, 1, 1, 0, 1, 1, 0, 0, 0, 1, 0, 0, 0, 0, 0, 1, 1,\n",
       "        0, 1, 1, 0, 1, 1, 1, 0, 0, 1, 0, 1, 0, 0, 0, 0, 1, 0, 1, 1, 1, 0,\n",
       "        1, 1, 1, 1, 1, 1, 1, 0, 0, 1, 1, 0, 1, 1, 0, 1, 0, 1, 0, 1, 1, 1,\n",
       "        1, 0, 1, 0, 1, 0, 1, 0, 1, 0, 1, 1, 1, 0, 1, 1, 1, 1, 1, 0, 1, 1]),\n",
       " 242)"
      ]
     },
     "execution_count": 28,
     "metadata": {},
     "output_type": "execute_result"
    }
   ],
   "source": [
    "y_train, len(y_train)"
   ]
  },
  {
   "cell_type": "code",
   "execution_count": 29,
   "id": "fbe7ae15",
   "metadata": {
    "execution": {
     "iopub.execute_input": "2022-09-02T10:50:41.895115Z",
     "iopub.status.busy": "2022-09-02T10:50:41.894417Z",
     "iopub.status.idle": "2022-09-02T10:50:41.901960Z",
     "shell.execute_reply": "2022-09-02T10:50:41.900819Z"
    },
    "papermill": {
     "duration": 0.03638,
     "end_time": "2022-09-02T10:50:41.904163",
     "exception": false,
     "start_time": "2022-09-02T10:50:41.867783",
     "status": "completed"
    },
    "tags": []
   },
   "outputs": [
    {
     "data": {
      "text/plain": [
       "(array([1, 0, 1, 1, 0, 1, 0, 1, 1, 0, 0, 1, 1, 1, 0, 0, 1, 1, 1, 1, 1, 1,\n",
       "        0, 1, 1, 0, 1, 1, 0, 1, 0, 0, 1, 1, 1, 1, 0, 0, 0, 1, 0, 1, 0, 1,\n",
       "        0, 1, 0, 1, 0, 1, 1, 0, 1, 1, 1, 1, 1, 1, 0, 1, 1]),\n",
       " 61)"
      ]
     },
     "execution_count": 29,
     "metadata": {},
     "output_type": "execute_result"
    }
   ],
   "source": [
    "y_test, len(y_test)"
   ]
  },
  {
   "cell_type": "markdown",
   "id": "a1d88b1d",
   "metadata": {
    "papermill": {
     "duration": 0.02506,
     "end_time": "2022-09-02T10:50:41.954836",
     "exception": false,
     "start_time": "2022-09-02T10:50:41.929776",
     "status": "completed"
    },
    "tags": []
   },
   "source": [
    "## Membandingkan Model Machine Learning\n",
    "\n",
    "- Logistic Regression\n",
    "- K-Nearest Neighbors\n",
    "- Random Forest"
   ]
  },
  {
   "cell_type": "code",
   "execution_count": 30,
   "id": "499aaf04",
   "metadata": {
    "execution": {
     "iopub.execute_input": "2022-09-02T10:50:42.007604Z",
     "iopub.status.busy": "2022-09-02T10:50:42.007178Z",
     "iopub.status.idle": "2022-09-02T10:50:42.014881Z",
     "shell.execute_reply": "2022-09-02T10:50:42.013752Z"
    },
    "papermill": {
     "duration": 0.036925,
     "end_time": "2022-09-02T10:50:42.017143",
     "exception": false,
     "start_time": "2022-09-02T10:50:41.980218",
     "status": "completed"
    },
    "tags": []
   },
   "outputs": [],
   "source": [
    "models = {\n",
    "    \"KNN\": KNeighborsClassifier(),\n",
    "    \"Logistic Regression\": LogisticRegression(),\n",
    "    \"Random Forest\": RandomForestClassifier()\n",
    "}\n",
    "\n",
    "def fit_and_score(models, X_train, X_test, y_train, y_test):\n",
    "    \"\"\"\n",
    "    Menyesuaikan dan mengevaluasi model machine learning.\n",
    "    models: dictionary dari model pembelajaran mesin Scikit-Learn yang berbeda.\n",
    "    X_train: training data\n",
    "    X_test: testing data\n",
    "    y_train: label yang terkait dengan data pelatihan\n",
    "    y_test: label yang terkait dengan data testing\n",
    "    \"\"\"\n",
    "    np.random.seed(8)\n",
    "    # Membuat dictionary untuk menyimpan skor model\n",
    "    model_scores = {}\n",
    "    for name, model in models.items():\n",
    "        model.fit(X_train, y_train)\n",
    "        model_scores[name] = model.score(X_test, y_test)\n",
    "    return model_scores"
   ]
  },
  {
   "cell_type": "markdown",
   "id": "23ea73ac",
   "metadata": {
    "papermill": {
     "duration": 0.024981,
     "end_time": "2022-09-02T10:50:42.067353",
     "exception": false,
     "start_time": "2022-09-02T10:50:42.042372",
     "status": "completed"
    },
    "tags": []
   },
   "source": [
    "## Menggunakan Parameter Default"
   ]
  },
  {
   "cell_type": "code",
   "execution_count": 31,
   "id": "5e1a5a36",
   "metadata": {
    "execution": {
     "iopub.execute_input": "2022-09-02T10:50:42.119743Z",
     "iopub.status.busy": "2022-09-02T10:50:42.119368Z",
     "iopub.status.idle": "2022-09-02T10:50:42.332118Z",
     "shell.execute_reply": "2022-09-02T10:50:42.330669Z"
    },
    "papermill": {
     "duration": 0.242611,
     "end_time": "2022-09-02T10:50:42.335214",
     "exception": false,
     "start_time": "2022-09-02T10:50:42.092603",
     "status": "completed"
    },
    "tags": []
   },
   "outputs": [
    {
     "name": "stderr",
     "output_type": "stream",
     "text": [
      "/opt/conda/lib/python3.7/site-packages/sklearn/linear_model/_logistic.py:818: ConvergenceWarning: lbfgs failed to converge (status=1):\n",
      "STOP: TOTAL NO. of ITERATIONS REACHED LIMIT.\n",
      "\n",
      "Increase the number of iterations (max_iter) or scale the data as shown in:\n",
      "    https://scikit-learn.org/stable/modules/preprocessing.html\n",
      "Please also refer to the documentation for alternative solver options:\n",
      "    https://scikit-learn.org/stable/modules/linear_model.html#logistic-regression\n",
      "  extra_warning_msg=_LOGISTIC_SOLVER_CONVERGENCE_MSG,\n"
     ]
    },
    {
     "data": {
      "text/plain": [
       "{'KNN': 0.6885245901639344,\n",
       " 'Logistic Regression': 0.8688524590163934,\n",
       " 'Random Forest': 0.8524590163934426}"
      ]
     },
     "execution_count": 31,
     "metadata": {},
     "output_type": "execute_result"
    }
   ],
   "source": [
    "model_scores = fit_and_score(models, X_train, X_test, y_train, y_test)\n",
    "model_scores"
   ]
  },
  {
   "cell_type": "markdown",
   "id": "b88a660c",
   "metadata": {
    "papermill": {
     "duration": 0.02571,
     "end_time": "2022-09-02T10:50:42.387295",
     "exception": false,
     "start_time": "2022-09-02T10:50:42.361585",
     "status": "completed"
    },
    "tags": []
   },
   "source": [
    "## Perbandingan Model"
   ]
  },
  {
   "cell_type": "code",
   "execution_count": 32,
   "id": "14a91b2f",
   "metadata": {
    "execution": {
     "iopub.execute_input": "2022-09-02T10:50:42.440765Z",
     "iopub.status.busy": "2022-09-02T10:50:42.440360Z",
     "iopub.status.idle": "2022-09-02T10:50:42.632483Z",
     "shell.execute_reply": "2022-09-02T10:50:42.631111Z"
    },
    "papermill": {
     "duration": 0.22186,
     "end_time": "2022-09-02T10:50:42.635161",
     "exception": false,
     "start_time": "2022-09-02T10:50:42.413301",
     "status": "completed"
    },
    "tags": []
   },
   "outputs": [
    {
     "data": {
      "image/png": "[encoded data removed]",
      "text/plain": [
       "<Figure size 432x288 with 1 Axes>"
      ]
     },
     "metadata": {
      "needs_background": "light"
     },
     "output_type": "display_data"
    }
   ],
   "source": [
    "model_compare = pd.DataFrame(model_scores, index=['accuracy'])\n",
    "model_compare.T.plot.bar();"
   ]
  },
  {
   "cell_type": "markdown",
   "id": "675c29c0",
   "metadata": {
    "papermill": {
     "duration": 0.025803,
     "end_time": "2022-09-02T10:50:42.687178",
     "exception": false,
     "start_time": "2022-09-02T10:50:42.661375",
     "status": "completed"
    },
    "tags": []
   },
   "source": [
    "## Menggunakan Hyperparameter Tuning dan Cross Validation\n",
    "\n",
    "### Tune Parameter KNN\n",
    "\n",
    "Dengan mencoba beberapa nilai n_neighbors yang berbeda."
   ]
  },
  {
   "cell_type": "code",
   "execution_count": 33,
   "id": "79b2b6ae",
   "metadata": {
    "execution": {
     "iopub.execute_input": "2022-09-02T10:50:42.741428Z",
     "iopub.status.busy": "2022-09-02T10:50:42.740636Z",
     "iopub.status.idle": "2022-09-02T10:50:43.072754Z",
     "shell.execute_reply": "2022-09-02T10:50:43.071715Z"
    },
    "papermill": {
     "duration": 0.362235,
     "end_time": "2022-09-02T10:50:43.075420",
     "exception": false,
     "start_time": "2022-09-02T10:50:42.713185",
     "status": "completed"
    },
    "tags": []
   },
   "outputs": [],
   "source": [
    "# List train scores\n",
    "train_scores = []\n",
    "\n",
    "# List test scores\n",
    "test_scores = []\n",
    "\n",
    "# Mencoba beberapa nilai n\n",
    "neighbors = range(1,21)\n",
    "\n",
    "# algoritma\n",
    "knn = KNeighborsClassifier()\n",
    "\n",
    "# Loop\n",
    "for i in neighbors:\n",
    "    knn.set_params(n_neighbors = i)\n",
    "    knn.fit(X_train, y_train)\n",
    "    \n",
    "    # Update scores\n",
    "    train_scores.append(knn.score(X_train, y_train))\n",
    "    test_scores.append(knn.score(X_test, y_test))"
   ]
  },
  {
   "cell_type": "code",
   "execution_count": 34,
   "id": "0c6df023",
   "metadata": {
    "execution": {
     "iopub.execute_input": "2022-09-02T10:50:43.129944Z",
     "iopub.status.busy": "2022-09-02T10:50:43.129477Z",
     "iopub.status.idle": "2022-09-02T10:50:43.136723Z",
     "shell.execute_reply": "2022-09-02T10:50:43.135606Z"
    },
    "papermill": {
     "duration": 0.037324,
     "end_time": "2022-09-02T10:50:43.138892",
     "exception": false,
     "start_time": "2022-09-02T10:50:43.101568",
     "status": "completed"
    },
    "tags": []
   },
   "outputs": [
    {
     "data": {
      "text/plain": [
       "[1.0,\n",
       " 0.8057851239669421,\n",
       " 0.7933884297520661,\n",
       " 0.768595041322314,\n",
       " 0.7644628099173554,\n",
       " 0.7520661157024794,\n",
       " 0.731404958677686,\n",
       " 0.7148760330578512,\n",
       " 0.7107438016528925,\n",
       " 0.6859504132231405,\n",
       " 0.6942148760330579,\n",
       " 0.6735537190082644,\n",
       " 0.6942148760330579,\n",
       " 0.6735537190082644,\n",
       " 0.6694214876033058,\n",
       " 0.6570247933884298,\n",
       " 0.6652892561983471,\n",
       " 0.6611570247933884,\n",
       " 0.6528925619834711,\n",
       " 0.6611570247933884]"
      ]
     },
     "execution_count": 34,
     "metadata": {},
     "output_type": "execute_result"
    }
   ],
   "source": [
    "train_scores"
   ]
  },
  {
   "cell_type": "code",
   "execution_count": 35,
   "id": "e03bc831",
   "metadata": {
    "execution": {
     "iopub.execute_input": "2022-09-02T10:50:43.192813Z",
     "iopub.status.busy": "2022-09-02T10:50:43.191984Z",
     "iopub.status.idle": "2022-09-02T10:50:43.199258Z",
     "shell.execute_reply": "2022-09-02T10:50:43.198396Z"
    },
    "papermill": {
     "duration": 0.036688,
     "end_time": "2022-09-02T10:50:43.201544",
     "exception": false,
     "start_time": "2022-09-02T10:50:43.164856",
     "status": "completed"
    },
    "tags": []
   },
   "outputs": [
    {
     "data": {
      "text/plain": [
       "[0.639344262295082,\n",
       " 0.4426229508196721,\n",
       " 0.6229508196721312,\n",
       " 0.6229508196721312,\n",
       " 0.6885245901639344,\n",
       " 0.6885245901639344,\n",
       " 0.6557377049180327,\n",
       " 0.6721311475409836,\n",
       " 0.6557377049180327,\n",
       " 0.639344262295082,\n",
       " 0.6557377049180327,\n",
       " 0.6721311475409836,\n",
       " 0.6557377049180327,\n",
       " 0.6885245901639344,\n",
       " 0.639344262295082,\n",
       " 0.6721311475409836,\n",
       " 0.6557377049180327,\n",
       " 0.6557377049180327,\n",
       " 0.639344262295082,\n",
       " 0.6557377049180327]"
      ]
     },
     "execution_count": 35,
     "metadata": {},
     "output_type": "execute_result"
    }
   ],
   "source": [
    "test_scores"
   ]
  },
  {
   "cell_type": "code",
   "execution_count": 36,
   "id": "5a3f40c3",
   "metadata": {
    "execution": {
     "iopub.execute_input": "2022-09-02T10:50:43.256369Z",
     "iopub.status.busy": "2022-09-02T10:50:43.255966Z",
     "iopub.status.idle": "2022-09-02T10:50:43.482990Z",
     "shell.execute_reply": "2022-09-02T10:50:43.481900Z"
    },
    "papermill": {
     "duration": 0.257282,
     "end_time": "2022-09-02T10:50:43.485437",
     "exception": false,
     "start_time": "2022-09-02T10:50:43.228155",
     "status": "completed"
    },
    "tags": []
   },
   "outputs": [
    {
     "name": "stdout",
     "output_type": "stream",
     "text": [
      "Nilai KNN tertinggi pada data test: 68.85%\n"
     ]
    },
    {
     "data": {
      "image/png": "[encoded data removed]",
      "text/plain": [
       "<Figure size 432x288 with 1 Axes>"
      ]
     },
     "metadata": {
      "needs_background": "light"
     },
     "output_type": "display_data"
    }
   ],
   "source": [
    "plt.plot(neighbors, train_scores, label=\"Train score\")\n",
    "plt.plot(neighbors, test_scores, label=\"Test score\")\n",
    "plt.xticks(np.arange(1, 21, 2))\n",
    "plt.xlabel(\"Number of neighbors\")\n",
    "plt.ylabel(\"Model score\")\n",
    "plt.ylim(ymin=0)\n",
    "plt.legend()\n",
    "\n",
    "print(f\"Nilai KNN tertinggi pada data test: {max(test_scores)*100:.2f}%\")"
   ]
  },
  {
   "cell_type": "markdown",
   "id": "391fdf6c",
   "metadata": {
    "papermill": {
     "duration": 0.026402,
     "end_time": "2022-09-02T10:50:43.538589",
     "exception": false,
     "start_time": "2022-09-02T10:50:43.512187",
     "status": "completed"
    },
    "tags": []
   },
   "source": [
    "## RandomizedSearch()"
   ]
  },
  {
   "cell_type": "code",
   "execution_count": 37,
   "id": "3c2b03e5",
   "metadata": {
    "execution": {
     "iopub.execute_input": "2022-09-02T10:50:43.595452Z",
     "iopub.status.busy": "2022-09-02T10:50:43.594376Z",
     "iopub.status.idle": "2022-09-02T10:50:43.601455Z",
     "shell.execute_reply": "2022-09-02T10:50:43.600601Z"
    },
    "papermill": {
     "duration": 0.038105,
     "end_time": "2022-09-02T10:50:43.603727",
     "exception": false,
     "start_time": "2022-09-02T10:50:43.565622",
     "status": "completed"
    },
    "tags": []
   },
   "outputs": [],
   "source": [
    "# Logistic Regression\n",
    "log_reg_grid = {\"C\": np.logspace(-4, 4, 20),\n",
    "                \"solver\": [\"liblinear\"]}\n",
    "\n",
    "# RandomForestClassifier\n",
    "rf_grid = {\"n_estimators\": np.arange(10, 1000, 50),\n",
    "           \"max_depth\": [None, 3, 5, 10],\n",
    "           \"min_samples_split\": np.arange(2, 20, 2),\n",
    "           \"min_samples_leaf\": np.arange(1, 20, 2)}"
   ]
  },
  {
   "cell_type": "code",
   "execution_count": 38,
   "id": "0c4d1f70",
   "metadata": {
    "execution": {
     "iopub.execute_input": "2022-09-02T10:50:43.658741Z",
     "iopub.status.busy": "2022-09-02T10:50:43.657953Z",
     "iopub.status.idle": "2022-09-02T10:50:44.230865Z",
     "shell.execute_reply": "2022-09-02T10:50:44.229974Z"
    },
    "papermill": {
     "duration": 0.603361,
     "end_time": "2022-09-02T10:50:44.233462",
     "exception": false,
     "start_time": "2022-09-02T10:50:43.630101",
     "status": "completed"
    },
    "tags": []
   },
   "outputs": [
    {
     "name": "stdout",
     "output_type": "stream",
     "text": [
      "Fitting 5 folds for each of 20 candidates, totalling 100 fits\n"
     ]
    }
   ],
   "source": [
    "np.random.seed(8)\n",
    "\n",
    "#LogisticRegression\n",
    "rs_log_reg = RandomizedSearchCV(LogisticRegression(),\n",
    "                                param_distributions=log_reg_grid,\n",
    "                                cv=5,\n",
    "                                n_iter=20,\n",
    "                                verbose=True)\n",
    "\n",
    "rs_log_reg.fit(X_train, y_train);"
   ]
  },
  {
   "cell_type": "code",
   "execution_count": 39,
   "id": "048b5528",
   "metadata": {
    "execution": {
     "iopub.execute_input": "2022-09-02T10:50:44.288477Z",
     "iopub.status.busy": "2022-09-02T10:50:44.288063Z",
     "iopub.status.idle": "2022-09-02T10:50:44.294855Z",
     "shell.execute_reply": "2022-09-02T10:50:44.293669Z"
    },
    "papermill": {
     "duration": 0.037247,
     "end_time": "2022-09-02T10:50:44.297152",
     "exception": false,
     "start_time": "2022-09-02T10:50:44.259905",
     "status": "completed"
    },
    "tags": []
   },
   "outputs": [
    {
     "data": {
      "text/plain": [
       "{'solver': 'liblinear', 'C': 1.623776739188721}"
      ]
     },
     "execution_count": 39,
     "metadata": {},
     "output_type": "execute_result"
    }
   ],
   "source": [
    "rs_log_reg.best_params_"
   ]
  },
  {
   "cell_type": "code",
   "execution_count": 40,
   "id": "89a309d1",
   "metadata": {
    "execution": {
     "iopub.execute_input": "2022-09-02T10:50:44.352995Z",
     "iopub.status.busy": "2022-09-02T10:50:44.352281Z",
     "iopub.status.idle": "2022-09-02T10:50:44.360776Z",
     "shell.execute_reply": "2022-09-02T10:50:44.359861Z"
    },
    "papermill": {
     "duration": 0.038676,
     "end_time": "2022-09-02T10:50:44.363086",
     "exception": false,
     "start_time": "2022-09-02T10:50:44.324410",
     "status": "completed"
    },
    "tags": []
   },
   "outputs": [
    {
     "data": {
      "text/plain": [
       "0.8688524590163934"
      ]
     },
     "execution_count": 40,
     "metadata": {},
     "output_type": "execute_result"
    }
   ],
   "source": [
    "rs_log_reg.score(X_test, y_test)"
   ]
  },
  {
   "cell_type": "markdown",
   "id": "01915fad",
   "metadata": {
    "papermill": {
     "duration": 0.026358,
     "end_time": "2022-09-02T10:50:44.416299",
     "exception": false,
     "start_time": "2022-09-02T10:50:44.389941",
     "status": "completed"
    },
    "tags": []
   },
   "source": [
    "Setelah menggunakan RandomizedSearchCV() model Logistic Regression masih memiliki akurasi yang sama ketika menggunakan parameter default."
   ]
  },
  {
   "cell_type": "code",
   "execution_count": 41,
   "id": "b2522460",
   "metadata": {
    "execution": {
     "iopub.execute_input": "2022-09-02T10:50:44.472253Z",
     "iopub.status.busy": "2022-09-02T10:50:44.471529Z",
     "iopub.status.idle": "2022-09-02T10:51:43.136311Z",
     "shell.execute_reply": "2022-09-02T10:51:43.135128Z"
    },
    "papermill": {
     "duration": 58.696016,
     "end_time": "2022-09-02T10:51:43.139154",
     "exception": false,
     "start_time": "2022-09-02T10:50:44.443138",
     "status": "completed"
    },
    "tags": []
   },
   "outputs": [
    {
     "name": "stdout",
     "output_type": "stream",
     "text": [
      "Fitting 5 folds for each of 20 candidates, totalling 100 fits\n"
     ]
    }
   ],
   "source": [
    "np.random.seed(8)\n",
    "\n",
    "#RandomForestClassifier\n",
    "rs_rfc = RandomizedSearchCV(RandomForestClassifier(),\n",
    "                            param_distributions=rf_grid,\n",
    "                            cv=5,\n",
    "                            n_iter=20,\n",
    "                            verbose=True)\n",
    "\n",
    "rs_rfc.fit(X_train, y_train);"
   ]
  },
  {
   "cell_type": "code",
   "execution_count": 42,
   "id": "2790a17c",
   "metadata": {
    "execution": {
     "iopub.execute_input": "2022-09-02T10:51:43.195371Z",
     "iopub.status.busy": "2022-09-02T10:51:43.194691Z",
     "iopub.status.idle": "2022-09-02T10:51:43.201966Z",
     "shell.execute_reply": "2022-09-02T10:51:43.200938Z"
    },
    "papermill": {
     "duration": 0.038369,
     "end_time": "2022-09-02T10:51:43.204543",
     "exception": false,
     "start_time": "2022-09-02T10:51:43.166174",
     "status": "completed"
    },
    "tags": []
   },
   "outputs": [
    {
     "data": {
      "text/plain": [
       "{'n_estimators': 810,\n",
       " 'min_samples_split': 12,\n",
       " 'min_samples_leaf': 3,\n",
       " 'max_depth': 3}"
      ]
     },
     "execution_count": 42,
     "metadata": {},
     "output_type": "execute_result"
    }
   ],
   "source": [
    "rs_rfc.best_params_"
   ]
  },
  {
   "cell_type": "code",
   "execution_count": 43,
   "id": "9e19cc31",
   "metadata": {
    "execution": {
     "iopub.execute_input": "2022-09-02T10:51:43.261881Z",
     "iopub.status.busy": "2022-09-02T10:51:43.261215Z",
     "iopub.status.idle": "2022-09-02T10:51:43.354852Z",
     "shell.execute_reply": "2022-09-02T10:51:43.353573Z"
    },
    "papermill": {
     "duration": 0.125977,
     "end_time": "2022-09-02T10:51:43.357406",
     "exception": false,
     "start_time": "2022-09-02T10:51:43.231429",
     "status": "completed"
    },
    "tags": []
   },
   "outputs": [
    {
     "data": {
      "text/plain": [
       "0.9016393442622951"
      ]
     },
     "execution_count": 43,
     "metadata": {},
     "output_type": "execute_result"
    }
   ],
   "source": [
    "rs_rfc.score(X_test, y_test)"
   ]
  },
  {
   "cell_type": "markdown",
   "id": "154601b2",
   "metadata": {
    "papermill": {
     "duration": 0.026637,
     "end_time": "2022-09-02T10:51:43.411145",
     "exception": false,
     "start_time": "2022-09-02T10:51:43.384508",
     "status": "completed"
    },
    "tags": []
   },
   "source": [
    "Sedangkan model RandomForestClassifier akurasinya meningkat dari 85% menjadi 90% "
   ]
  },
  {
   "cell_type": "markdown",
   "id": "96fd645c",
   "metadata": {
    "papermill": {
     "duration": 0.02668,
     "end_time": "2022-09-02T10:51:43.464857",
     "exception": false,
     "start_time": "2022-09-02T10:51:43.438177",
     "status": "completed"
    },
    "tags": []
   },
   "source": [
    "## GridSearchCV()"
   ]
  },
  {
   "cell_type": "code",
   "execution_count": 44,
   "id": "c63bf81e",
   "metadata": {
    "execution": {
     "iopub.execute_input": "2022-09-02T10:51:43.521106Z",
     "iopub.status.busy": "2022-09-02T10:51:43.520332Z",
     "iopub.status.idle": "2022-09-02T10:51:44.088439Z",
     "shell.execute_reply": "2022-09-02T10:51:44.087434Z"
    },
    "papermill": {
     "duration": 0.599192,
     "end_time": "2022-09-02T10:51:44.091155",
     "exception": false,
     "start_time": "2022-09-02T10:51:43.491963",
     "status": "completed"
    },
    "tags": []
   },
   "outputs": [
    {
     "name": "stdout",
     "output_type": "stream",
     "text": [
      "Fitting 5 folds for each of 20 candidates, totalling 100 fits\n"
     ]
    }
   ],
   "source": [
    "np.random.seed(8)\n",
    "\n",
    "#LogisticRegression\n",
    "gs_log_reg = GridSearchCV(LogisticRegression(),\n",
    "                                param_grid=log_reg_grid,\n",
    "                                cv=5,\n",
    "                                verbose=True)\n",
    "\n",
    "gs_log_reg.fit(X_train, y_train);"
   ]
  },
  {
   "cell_type": "code",
   "execution_count": 45,
   "id": "34ae355e",
   "metadata": {
    "execution": {
     "iopub.execute_input": "2022-09-02T10:51:44.147435Z",
     "iopub.status.busy": "2022-09-02T10:51:44.147054Z",
     "iopub.status.idle": "2022-09-02T10:51:44.153754Z",
     "shell.execute_reply": "2022-09-02T10:51:44.152635Z"
    },
    "papermill": {
     "duration": 0.037489,
     "end_time": "2022-09-02T10:51:44.155946",
     "exception": false,
     "start_time": "2022-09-02T10:51:44.118457",
     "status": "completed"
    },
    "tags": []
   },
   "outputs": [
    {
     "data": {
      "text/plain": [
       "{'C': 1.623776739188721, 'solver': 'liblinear'}"
      ]
     },
     "execution_count": 45,
     "metadata": {},
     "output_type": "execute_result"
    }
   ],
   "source": [
    "gs_log_reg.best_params_"
   ]
  },
  {
   "cell_type": "code",
   "execution_count": 46,
   "id": "1a19ead0",
   "metadata": {
    "execution": {
     "iopub.execute_input": "2022-09-02T10:51:44.213136Z",
     "iopub.status.busy": "2022-09-02T10:51:44.212530Z",
     "iopub.status.idle": "2022-09-02T10:51:44.220200Z",
     "shell.execute_reply": "2022-09-02T10:51:44.219398Z"
    },
    "papermill": {
     "duration": 0.038268,
     "end_time": "2022-09-02T10:51:44.222160",
     "exception": false,
     "start_time": "2022-09-02T10:51:44.183892",
     "status": "completed"
    },
    "scrolled": true,
    "tags": []
   },
   "outputs": [
    {
     "data": {
      "text/plain": [
       "0.8688524590163934"
      ]
     },
     "execution_count": 46,
     "metadata": {},
     "output_type": "execute_result"
    }
   ],
   "source": [
    "gs_log_reg.score(X_test, y_test)"
   ]
  },
  {
   "cell_type": "markdown",
   "id": "e5e07155",
   "metadata": {
    "papermill": {
     "duration": 0.033175,
     "end_time": "2022-09-02T10:51:44.285215",
     "exception": false,
     "start_time": "2022-09-02T10:51:44.252040",
     "status": "completed"
    },
    "tags": []
   },
   "source": [
    "Dalam hal ini, saya mendapatkan hasil yang sama seperti sebelumnya karena grid saya hanya memiliki maksimal 20 kombinasi hyperparameter yang berbeda.\n",
    "\n",
    "**Note**: Saya tidak menggunakan Grid pada RandomForestClassifier karena akan memiliki banyak kombinasi yang berbeda dan membutuhkan waktu yang lama, karena ini hanya latihan dan menyingkat waktu saya menggunakan RandomizedSearchCV. "
   ]
  },
  {
   "cell_type": "markdown",
   "id": "f77829c0",
   "metadata": {
    "papermill": {
     "duration": 0.032075,
     "end_time": "2022-09-02T10:51:44.350406",
     "exception": false,
     "start_time": "2022-09-02T10:51:44.318331",
     "status": "completed"
    },
    "tags": []
   },
   "source": [
    "## Evaluation Model Klasifikasi"
   ]
  },
  {
   "cell_type": "code",
   "execution_count": 47,
   "id": "0032fd61",
   "metadata": {
    "execution": {
     "iopub.execute_input": "2022-09-02T10:51:44.407775Z",
     "iopub.status.busy": "2022-09-02T10:51:44.407052Z",
     "iopub.status.idle": "2022-09-02T10:51:44.415281Z",
     "shell.execute_reply": "2022-09-02T10:51:44.414422Z"
    },
    "papermill": {
     "duration": 0.039115,
     "end_time": "2022-09-02T10:51:44.417349",
     "exception": false,
     "start_time": "2022-09-02T10:51:44.378234",
     "status": "completed"
    },
    "tags": []
   },
   "outputs": [
    {
     "data": {
      "text/plain": [
       "array([1, 1, 1, 0, 0, 1, 0, 1, 1, 0, 0, 1, 1, 0, 0, 0, 1, 1, 1, 1, 1, 1,\n",
       "       0, 1, 1, 0, 1, 1, 0, 1, 0, 1, 1, 0, 1, 1, 0, 0, 0, 1, 0, 1, 0, 1,\n",
       "       0, 0, 0, 0, 0, 1, 1, 0, 1, 1, 1, 0, 1, 1, 0, 1, 1])"
      ]
     },
     "execution_count": 47,
     "metadata": {},
     "output_type": "execute_result"
    }
   ],
   "source": [
    "y_preds = gs_log_reg.predict(X_test)\n",
    "y_preds"
   ]
  },
  {
   "cell_type": "code",
   "execution_count": 48,
   "id": "3b50f708",
   "metadata": {
    "execution": {
     "iopub.execute_input": "2022-09-02T10:51:44.475284Z",
     "iopub.status.busy": "2022-09-02T10:51:44.474485Z",
     "iopub.status.idle": "2022-09-02T10:51:44.481128Z",
     "shell.execute_reply": "2022-09-02T10:51:44.480235Z"
    },
    "papermill": {
     "duration": 0.038297,
     "end_time": "2022-09-02T10:51:44.483313",
     "exception": false,
     "start_time": "2022-09-02T10:51:44.445016",
     "status": "completed"
    },
    "tags": []
   },
   "outputs": [
    {
     "data": {
      "text/plain": [
       "array([1, 0, 1, 1, 0, 1, 0, 1, 1, 0, 0, 1, 1, 1, 0, 0, 1, 1, 1, 1, 1, 1,\n",
       "       0, 1, 1, 0, 1, 1, 0, 1, 0, 0, 1, 1, 1, 1, 0, 0, 0, 1, 0, 1, 0, 1,\n",
       "       0, 1, 0, 1, 0, 1, 1, 0, 1, 1, 1, 1, 1, 1, 0, 1, 1])"
      ]
     },
     "execution_count": 48,
     "metadata": {},
     "output_type": "execute_result"
    }
   ],
   "source": [
    "y_test"
   ]
  },
  {
   "cell_type": "markdown",
   "id": "d502977d",
   "metadata": {
    "papermill": {
     "duration": 0.027555,
     "end_time": "2022-09-02T10:51:44.538556",
     "exception": false,
     "start_time": "2022-09-02T10:51:44.511001",
     "status": "completed"
    },
    "tags": []
   },
   "source": [
    "## ROC dan AUC Scores"
   ]
  },
  {
   "cell_type": "code",
   "execution_count": 49,
   "id": "1b5228fd",
   "metadata": {
    "execution": {
     "iopub.execute_input": "2022-09-02T10:51:44.596662Z",
     "iopub.status.busy": "2022-09-02T10:51:44.595944Z",
     "iopub.status.idle": "2022-09-02T10:51:44.811881Z",
     "shell.execute_reply": "2022-09-02T10:51:44.810741Z"
    },
    "papermill": {
     "duration": 0.247694,
     "end_time": "2022-09-02T10:51:44.814465",
     "exception": false,
     "start_time": "2022-09-02T10:51:44.566771",
     "status": "completed"
    },
    "tags": []
   },
   "outputs": [
    {
     "name": "stderr",
     "output_type": "stream",
     "text": [
      "/opt/conda/lib/python3.7/site-packages/sklearn/utils/deprecation.py:87: FutureWarning: Function plot_roc_curve is deprecated; Function :func:`plot_roc_curve` is deprecated in 1.0 and will be removed in 1.2. Use one of the class methods: :meth:`sklearn.metric.RocCurveDisplay.from_predictions` or :meth:`sklearn.metric.RocCurveDisplay.from_estimator`.\n",
      "  warnings.warn(msg, category=FutureWarning)\n"
     ]
    },
    {
     "data": {
      "image/png": "[encoded data removed]",
      "text/plain": [
       "<Figure size 432x288 with 1 Axes>"
      ]
     },
     "metadata": {
      "needs_background": "light"
     },
     "output_type": "display_data"
    }
   ],
   "source": [
    "plot_roc_curve(gs_log_reg, X_test, y_test);"
   ]
  },
  {
   "cell_type": "markdown",
   "id": "ce4e0750",
   "metadata": {
    "papermill": {
     "duration": 0.027556,
     "end_time": "2022-09-02T10:51:44.870219",
     "exception": false,
     "start_time": "2022-09-02T10:51:44.842663",
     "status": "completed"
    },
    "tags": []
   },
   "source": [
    "## Confusion Matrix"
   ]
  },
  {
   "cell_type": "code",
   "execution_count": 50,
   "id": "99d53130",
   "metadata": {
    "execution": {
     "iopub.execute_input": "2022-09-02T10:51:44.928238Z",
     "iopub.status.busy": "2022-09-02T10:51:44.927774Z",
     "iopub.status.idle": "2022-09-02T10:51:44.935954Z",
     "shell.execute_reply": "2022-09-02T10:51:44.934578Z"
    },
    "papermill": {
     "duration": 0.0399,
     "end_time": "2022-09-02T10:51:44.938166",
     "exception": false,
     "start_time": "2022-09-02T10:51:44.898266",
     "status": "completed"
    },
    "tags": []
   },
   "outputs": [
    {
     "name": "stdout",
     "output_type": "stream",
     "text": [
      "[[20  2]\n",
      " [ 6 33]]\n"
     ]
    }
   ],
   "source": [
    "print(confusion_matrix(y_test, y_preds))"
   ]
  },
  {
   "cell_type": "code",
   "execution_count": 51,
   "id": "ddf5a287",
   "metadata": {
    "execution": {
     "iopub.execute_input": "2022-09-02T10:51:44.997651Z",
     "iopub.status.busy": "2022-09-02T10:51:44.996753Z",
     "iopub.status.idle": "2022-09-02T10:51:45.236495Z",
     "shell.execute_reply": "2022-09-02T10:51:45.235508Z"
    },
    "papermill": {
     "duration": 0.272515,
     "end_time": "2022-09-02T10:51:45.238932",
     "exception": false,
     "start_time": "2022-09-02T10:51:44.966417",
     "status": "completed"
    },
    "tags": []
   },
   "outputs": [
    {
     "data": {
      "image/png": "[encoded data removed]",
      "text/plain": [
       "<Figure size 216x216 with 1 Axes>"
      ]
     },
     "metadata": {},
     "output_type": "display_data"
    }
   ],
   "source": [
    "sns.set(font_scale=1.5)\n",
    "\n",
    "def plot_conf_mat(y_test, y_preds):\n",
    "    \"\"\"\n",
    "    Plots a confusion matrix using Seaborn's heatmap().\n",
    "    \"\"\"\n",
    "    fig, ax = plt.subplots(figsize=(3, 3))\n",
    "    ax = sns.heatmap(confusion_matrix(y_test, y_preds),\n",
    "                     annot=True, # Annotate the boxes\n",
    "                     cbar=False)\n",
    "    plt.xlabel(\"true label\")\n",
    "    plt.ylabel(\"predicted label\")\n",
    "    \n",
    "plot_conf_mat(y_test, y_preds)"
   ]
  },
  {
   "cell_type": "markdown",
   "id": "a7978b80",
   "metadata": {
    "papermill": {
     "duration": 0.028513,
     "end_time": "2022-09-02T10:51:45.296547",
     "exception": false,
     "start_time": "2022-09-02T10:51:45.268034",
     "status": "completed"
    },
    "tags": []
   },
   "source": [
    "## Classification Report"
   ]
  },
  {
   "cell_type": "code",
   "execution_count": 52,
   "id": "0402dc20",
   "metadata": {
    "execution": {
     "iopub.execute_input": "2022-09-02T10:51:45.355835Z",
     "iopub.status.busy": "2022-09-02T10:51:45.355018Z",
     "iopub.status.idle": "2022-09-02T10:51:45.365633Z",
     "shell.execute_reply": "2022-09-02T10:51:45.364076Z"
    },
    "papermill": {
     "duration": 0.043165,
     "end_time": "2022-09-02T10:51:45.368192",
     "exception": false,
     "start_time": "2022-09-02T10:51:45.325027",
     "status": "completed"
    },
    "tags": []
   },
   "outputs": [
    {
     "name": "stdout",
     "output_type": "stream",
     "text": [
      "              precision    recall  f1-score   support\n",
      "\n",
      "           0       0.77      0.91      0.83        22\n",
      "           1       0.94      0.85      0.89        39\n",
      "\n",
      "    accuracy                           0.87        61\n",
      "   macro avg       0.86      0.88      0.86        61\n",
      "weighted avg       0.88      0.87      0.87        61\n",
      "\n"
     ]
    }
   ],
   "source": [
    "print(classification_report(y_test, y_preds))"
   ]
  },
  {
   "cell_type": "code",
   "execution_count": 53,
   "id": "738c666b",
   "metadata": {
    "execution": {
     "iopub.execute_input": "2022-09-02T10:51:45.427746Z",
     "iopub.status.busy": "2022-09-02T10:51:45.426996Z",
     "iopub.status.idle": "2022-09-02T10:51:45.433087Z",
     "shell.execute_reply": "2022-09-02T10:51:45.432083Z"
    },
    "papermill": {
     "duration": 0.038203,
     "end_time": "2022-09-02T10:51:45.435180",
     "exception": false,
     "start_time": "2022-09-02T10:51:45.396977",
     "status": "completed"
    },
    "tags": []
   },
   "outputs": [
    {
     "data": {
      "text/plain": [
       "{'C': 1.623776739188721, 'solver': 'liblinear'}"
      ]
     },
     "execution_count": 53,
     "metadata": {},
     "output_type": "execute_result"
    }
   ],
   "source": [
    "gs_log_reg.best_params_"
   ]
  },
  {
   "cell_type": "code",
   "execution_count": 54,
   "id": "91857265",
   "metadata": {
    "execution": {
     "iopub.execute_input": "2022-09-02T10:51:45.495811Z",
     "iopub.status.busy": "2022-09-02T10:51:45.495059Z",
     "iopub.status.idle": "2022-09-02T10:51:45.499521Z",
     "shell.execute_reply": "2022-09-02T10:51:45.498648Z"
    },
    "papermill": {
     "duration": 0.037734,
     "end_time": "2022-09-02T10:51:45.501667",
     "exception": false,
     "start_time": "2022-09-02T10:51:45.463933",
     "status": "completed"
    },
    "tags": []
   },
   "outputs": [],
   "source": [
    "clf = LogisticRegression(C=1.623776739188721,\n",
    "                         solver=\"liblinear\")"
   ]
  },
  {
   "cell_type": "code",
   "execution_count": 55,
   "id": "751932d6",
   "metadata": {
    "execution": {
     "iopub.execute_input": "2022-09-02T10:51:45.561277Z",
     "iopub.status.busy": "2022-09-02T10:51:45.560523Z",
     "iopub.status.idle": "2022-09-02T10:51:45.599588Z",
     "shell.execute_reply": "2022-09-02T10:51:45.598728Z"
    },
    "papermill": {
     "duration": 0.071397,
     "end_time": "2022-09-02T10:51:45.601783",
     "exception": false,
     "start_time": "2022-09-02T10:51:45.530386",
     "status": "completed"
    },
    "tags": []
   },
   "outputs": [
    {
     "data": {
      "text/plain": [
       "array([0.81967213, 0.85245902, 0.85245902, 0.85      , 0.71666667])"
      ]
     },
     "execution_count": 55,
     "metadata": {},
     "output_type": "execute_result"
    }
   ],
   "source": [
    "# Accuracy score\n",
    "cv_acc = cross_val_score(clf,\n",
    "                         X,\n",
    "                         y,\n",
    "                         cv=5, # 5-fold cross-validation\n",
    "                         scoring=\"accuracy\") # accuracy as scoring\n",
    "cv_acc"
   ]
  },
  {
   "cell_type": "code",
   "execution_count": 56,
   "id": "b43c37cd",
   "metadata": {
    "execution": {
     "iopub.execute_input": "2022-09-02T10:51:45.662041Z",
     "iopub.status.busy": "2022-09-02T10:51:45.661356Z",
     "iopub.status.idle": "2022-09-02T10:51:45.668008Z",
     "shell.execute_reply": "2022-09-02T10:51:45.666895Z"
    },
    "papermill": {
     "duration": 0.039385,
     "end_time": "2022-09-02T10:51:45.670490",
     "exception": false,
     "start_time": "2022-09-02T10:51:45.631105",
     "status": "completed"
    },
    "tags": []
   },
   "outputs": [
    {
     "data": {
      "text/plain": [
       "0.8182513661202186"
      ]
     },
     "execution_count": 56,
     "metadata": {},
     "output_type": "execute_result"
    }
   ],
   "source": [
    "cv_acc = np.mean(cv_acc)\n",
    "cv_acc"
   ]
  },
  {
   "cell_type": "code",
   "execution_count": 57,
   "id": "52497af8",
   "metadata": {
    "execution": {
     "iopub.execute_input": "2022-09-02T10:51:45.729171Z",
     "iopub.status.busy": "2022-09-02T10:51:45.728725Z",
     "iopub.status.idle": "2022-09-02T10:51:45.772655Z",
     "shell.execute_reply": "2022-09-02T10:51:45.771846Z"
    },
    "papermill": {
     "duration": 0.075834,
     "end_time": "2022-09-02T10:51:45.774837",
     "exception": false,
     "start_time": "2022-09-02T10:51:45.699003",
     "status": "completed"
    },
    "tags": []
   },
   "outputs": [
    {
     "data": {
      "text/plain": [
       "0.8122549019607843"
      ]
     },
     "execution_count": 57,
     "metadata": {},
     "output_type": "execute_result"
    }
   ],
   "source": [
    "# Precision score\n",
    "cv_precision = np.mean(cross_val_score(clf,\n",
    "                                       X,\n",
    "                                       y,\n",
    "                                       cv=5, # 5-fold cross-validation\n",
    "                                       scoring=\"precision\")) # precision as scoring\n",
    "cv_precision"
   ]
  },
  {
   "cell_type": "code",
   "execution_count": 58,
   "id": "776f40c9",
   "metadata": {
    "execution": {
     "iopub.execute_input": "2022-09-02T10:51:45.834096Z",
     "iopub.status.busy": "2022-09-02T10:51:45.833309Z",
     "iopub.status.idle": "2022-09-02T10:51:45.876275Z",
     "shell.execute_reply": "2022-09-02T10:51:45.875137Z"
    },
    "papermill": {
     "duration": 0.07524,
     "end_time": "2022-09-02T10:51:45.878772",
     "exception": false,
     "start_time": "2022-09-02T10:51:45.803532",
     "status": "completed"
    },
    "tags": []
   },
   "outputs": [
    {
     "data": {
      "text/plain": [
       "0.8727272727272727"
      ]
     },
     "execution_count": 58,
     "metadata": {},
     "output_type": "execute_result"
    }
   ],
   "source": [
    "# Recall score\n",
    "cv_recall = np.mean(cross_val_score(clf,\n",
    "                                    X,\n",
    "                                    y,\n",
    "                                    cv=5, # 5-fold cross-validation\n",
    "                                    scoring=\"recall\")) # recall as scoring\n",
    "cv_recall"
   ]
  },
  {
   "cell_type": "code",
   "execution_count": 59,
   "id": "2bd9efbd",
   "metadata": {
    "execution": {
     "iopub.execute_input": "2022-09-02T10:51:45.938837Z",
     "iopub.status.busy": "2022-09-02T10:51:45.938388Z",
     "iopub.status.idle": "2022-09-02T10:51:45.982854Z",
     "shell.execute_reply": "2022-09-02T10:51:45.981814Z"
    },
    "papermill": {
     "duration": 0.077897,
     "end_time": "2022-09-02T10:51:45.985329",
     "exception": false,
     "start_time": "2022-09-02T10:51:45.907432",
     "status": "completed"
    },
    "tags": []
   },
   "outputs": [
    {
     "data": {
      "text/plain": [
       "0.8404818247075424"
      ]
     },
     "execution_count": 59,
     "metadata": {},
     "output_type": "execute_result"
    }
   ],
   "source": [
    "# F1 score\n",
    "cv_f1 = np.mean(cross_val_score(clf,\n",
    "                                X,\n",
    "                                y,\n",
    "                                cv=5, # 5-fold cross-validation\n",
    "                                scoring=\"f1\")) # f1 as scoring\n",
    "cv_f1"
   ]
  },
  {
   "cell_type": "code",
   "execution_count": 60,
   "id": "ccc509aa",
   "metadata": {
    "execution": {
     "iopub.execute_input": "2022-09-02T10:51:46.045648Z",
     "iopub.status.busy": "2022-09-02T10:51:46.045232Z",
     "iopub.status.idle": "2022-09-02T10:51:46.208634Z",
     "shell.execute_reply": "2022-09-02T10:51:46.207430Z"
    },
    "papermill": {
     "duration": 0.196682,
     "end_time": "2022-09-02T10:51:46.211014",
     "exception": false,
     "start_time": "2022-09-02T10:51:46.014332",
     "status": "completed"
    },
    "tags": []
   },
   "outputs": [
    {
     "data": {
      "image/png": "[encoded data removed]",
      "text/plain": [
       "<Figure size 432x288 with 1 Axes>"
      ]
     },
     "metadata": {},
     "output_type": "display_data"
    }
   ],
   "source": [
    "# Visualizing\n",
    "cv_metrics = pd.DataFrame({\"Accuracy\": cv_acc,\n",
    "                            \"Precision\": cv_precision,\n",
    "                            \"Recall\": cv_recall,\n",
    "                            \"F1\": cv_f1},\n",
    "                            index=[0])\n",
    "cv_metrics.T.plot.bar(title=\"Cross-Validated Metrics\", legend=False);"
   ]
  }
 ],
 "metadata": {
  "kernelspec": {
   "display_name": "Python 3",
   "language": "python",
   "name": "python3"
  },
  "language_info": {
   "codemirror_mode": {
    "name": "ipython",
    "version": 3
   },
   "file_extension": ".py",
   "mimetype": "text/x-python",
   "name": "python",
   "nbconvert_exporter": "python",
   "pygments_lexer": "ipython3",
   "version": "3.7.12"
  },
  "papermill": {
   "default_parameters": {},
   "duration": 80.618642,
   "end_time": "2022-09-02T10:51:46.962961",
   "environment_variables": {},
   "exception": null,
   "input_path": "__notebook__.ipynb",
   "output_path": "__notebook__.ipynb",
   "parameters": {},
   "start_time": "2022-09-02T10:50:26.344319",
   "version": "2.3.4"
  }
 },
 "nbformat": 4,
 "nbformat_minor": 5
}
